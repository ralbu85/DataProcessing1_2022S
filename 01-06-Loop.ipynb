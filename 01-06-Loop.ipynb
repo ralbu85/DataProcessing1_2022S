{
 "cells": [
  {
   "cell_type": "markdown",
   "id": "celtic-antique",
   "metadata": {},
   "source": [
    "## 반복문이 필요한 이유"
   ]
  },
  {
   "cell_type": "code",
   "execution_count": 1,
   "id": "appreciated-chart",
   "metadata": {},
   "outputs": [
    {
     "name": "stdout",
     "output_type": "stream",
     "text": [
      "=1=\n",
      "=2=\n",
      "=3=\n",
      "=4=\n",
      "=5=\n",
      "=6=\n",
      "=7=\n",
      "=8=\n",
      "=9=\n"
     ]
    }
   ],
   "source": [
    "print(\"=1=\")\n",
    "print(\"=2=\")\n",
    "print(\"=3=\")\n",
    "print(\"=4=\")\n",
    "print(\"=5=\")\n",
    "print(\"=6=\")\n",
    "print(\"=7=\")\n",
    "print(\"=8=\")\n",
    "print(\"=9=\")"
   ]
  },
  {
   "cell_type": "markdown",
   "id": "compact-traffic",
   "metadata": {},
   "source": [
    "## 지정한 횟수만큼 반복"
   ]
  },
  {
   "cell_type": "code",
   "execution_count": 10,
   "id": "professional-consultation",
   "metadata": {},
   "outputs": [
    {
     "name": "stdout",
     "output_type": "stream",
     "text": [
      "=\n",
      "=\n",
      "=\n",
      "=\n",
      "=\n",
      "=\n",
      "=\n",
      "=\n",
      "=\n",
      "=\n"
     ]
    }
   ],
   "source": [
    "for i in range(10):\n",
    "    print('=')"
   ]
  },
  {
   "cell_type": "markdown",
   "id": "found-olive",
   "metadata": {},
   "source": [
    "## 반복문 내에서의 카운터 변수"
   ]
  },
  {
   "cell_type": "code",
   "execution_count": 3,
   "id": "flush-bridal",
   "metadata": {},
   "outputs": [
    {
     "name": "stdout",
     "output_type": "stream",
     "text": [
      "0\n",
      "1\n",
      "2\n",
      "3\n",
      "4\n",
      "5\n",
      "6\n",
      "7\n",
      "8\n",
      "9\n"
     ]
    }
   ],
   "source": [
    "for i in range(10):\n",
    "    print(i)"
   ]
  },
  {
   "cell_type": "code",
   "execution_count": 5,
   "id": "inclusive-combination",
   "metadata": {},
   "outputs": [
    {
     "ename": "TypeError",
     "evalue": "can only concatenate str (not \"int\") to str",
     "output_type": "error",
     "traceback": [
      "\u001b[0;31m---------------------------------------------------------------------------\u001b[0m",
      "\u001b[0;31mTypeError\u001b[0m                                 Traceback (most recent call last)",
      "\u001b[0;32m<ipython-input-5-f24d1ab5bfe4>\u001b[0m in \u001b[0;36m<module>\u001b[0;34m\u001b[0m\n\u001b[1;32m      1\u001b[0m \u001b[0;32mfor\u001b[0m \u001b[0mi\u001b[0m \u001b[0;32min\u001b[0m \u001b[0mrange\u001b[0m\u001b[0;34m(\u001b[0m\u001b[0;36m10\u001b[0m\u001b[0;34m)\u001b[0m\u001b[0;34m:\u001b[0m\u001b[0;34m\u001b[0m\u001b[0;34m\u001b[0m\u001b[0m\n\u001b[0;32m----> 2\u001b[0;31m     \u001b[0mprint\u001b[0m\u001b[0;34m(\u001b[0m\u001b[0;34m'='\u001b[0m\u001b[0;34m+\u001b[0m\u001b[0mi\u001b[0m\u001b[0;34m+\u001b[0m\u001b[0;34m'='\u001b[0m\u001b[0;34m)\u001b[0m\u001b[0;34m\u001b[0m\u001b[0;34m\u001b[0m\u001b[0m\n\u001b[0m",
      "\u001b[0;31mTypeError\u001b[0m: can only concatenate str (not \"int\") to str"
     ]
    }
   ],
   "source": [
    "for i in range(10):\n",
    "    print('='+i+'=')"
   ]
  },
  {
   "cell_type": "code",
   "execution_count": 6,
   "id": "joint-crown",
   "metadata": {},
   "outputs": [
    {
     "name": "stdout",
     "output_type": "stream",
     "text": [
      "= 0 =\n",
      "= 1 =\n",
      "= 2 =\n",
      "= 3 =\n",
      "= 4 =\n",
      "= 5 =\n",
      "= 6 =\n",
      "= 7 =\n",
      "= 8 =\n",
      "= 9 =\n"
     ]
    }
   ],
   "source": [
    "for i in range(10):\n",
    "    print('=',i,'=')"
   ]
  },
  {
   "cell_type": "markdown",
   "id": "independent-thompson",
   "metadata": {},
   "source": [
    "## 중첩반복문"
   ]
  },
  {
   "cell_type": "code",
   "execution_count": 7,
   "id": "local-syndicate",
   "metadata": {},
   "outputs": [
    {
     "name": "stdout",
     "output_type": "stream",
     "text": [
      "0 0\n",
      "0 1\n",
      "0 2\n",
      "0 3\n",
      "1 0\n",
      "1 1\n",
      "1 2\n",
      "1 3\n",
      "2 0\n",
      "2 1\n",
      "2 2\n",
      "2 3\n",
      "3 0\n",
      "3 1\n",
      "3 2\n",
      "3 3\n"
     ]
    }
   ],
   "source": [
    "for i in range(4):\n",
    "    for j in range(4):\n",
    "        print(i,j)"
   ]
  },
  {
   "cell_type": "code",
   "execution_count": 9,
   "id": "celtic-motivation",
   "metadata": {},
   "outputs": [
    {
     "name": "stdout",
     "output_type": "stream",
     "text": [
      "0\n",
      "1\n",
      "2\n",
      "3\n",
      "\n",
      "1\n",
      "2\n",
      "3\n",
      "4\n",
      "\n",
      "2\n",
      "3\n",
      "4\n",
      "5\n",
      "\n",
      "3\n",
      "4\n",
      "5\n",
      "6\n",
      "\n"
     ]
    }
   ],
   "source": [
    "for i in range(4):\n",
    "    for j in range(4):\n",
    "        print(i+j)\n",
    "    print()"
   ]
  }
 ],
 "metadata": {
  "kernelspec": {
   "display_name": "Python 3 (ipykernel)",
   "language": "python",
   "name": "python3"
  },
  "language_info": {
   "codemirror_mode": {
    "name": "ipython",
    "version": 3
   },
   "file_extension": ".py",
   "mimetype": "text/x-python",
   "name": "python",
   "nbconvert_exporter": "python",
   "pygments_lexer": "ipython3",
   "version": "3.8.10"
  }
 },
 "nbformat": 4,
 "nbformat_minor": 5
}
