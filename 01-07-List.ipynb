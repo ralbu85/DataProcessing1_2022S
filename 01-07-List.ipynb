{
  "nbformat": 4,
  "nbformat_minor": 0,
  "metadata": {
    "colab": {
      "name": "01-07-List.ipynb",
      "provenance": []
    },
    "kernelspec": {
      "name": "python3",
      "display_name": "Python 3"
    },
    "language_info": {
      "name": "python"
    }
  },
  "cells": [
    {
      "cell_type": "markdown",
      "source": [
        "## 리스트의 성질"
      ],
      "metadata": {
        "id": "AV_fW_UX3Q-K"
      }
    },
    {
      "cell_type": "code",
      "execution_count": 1,
      "metadata": {
        "colab": {
          "base_uri": "https://localhost:8080/"
        },
        "id": "Ow3ABtro1Yue",
        "outputId": "ac33631e-001b-4138-94e3-ffb591fcd5f2"
      },
      "outputs": [
        {
          "output_type": "execute_result",
          "data": {
            "text/plain": [
              "[88, 99, 100]"
            ]
          },
          "metadata": {},
          "execution_count": 1
        }
      ],
      "source": [
        "[88,99,100]"
      ]
    },
    {
      "cell_type": "code",
      "source": [
        "x=[1,3,5,7,9]\n",
        "print(x)"
      ],
      "metadata": {
        "colab": {
          "base_uri": "https://localhost:8080/"
        },
        "id": "_6gYsfGK3YYJ",
        "outputId": "27921855-066a-48e0-e7b1-b5345c910ed3"
      },
      "execution_count": 2,
      "outputs": [
        {
          "output_type": "stream",
          "name": "stdout",
          "text": [
            "[1, 3, 5, 7, 9]\n"
          ]
        }
      ]
    },
    {
      "cell_type": "code",
      "source": [
        "x=['hello', 2,[1,2],[],True]\n",
        "print(x)"
      ],
      "metadata": {
        "colab": {
          "base_uri": "https://localhost:8080/"
        },
        "id": "exzSlVoM3a9Z",
        "outputId": "e040ae6a-7593-481f-81ad-6d708d867f4e"
      },
      "execution_count": 3,
      "outputs": [
        {
          "output_type": "stream",
          "name": "stdout",
          "text": [
            "['hello', 2, [1, 2], [], True]\n"
          ]
        }
      ]
    },
    {
      "cell_type": "markdown",
      "source": [
        "## 리스트 인덱싱"
      ],
      "metadata": {
        "id": "eF9vlSz03wlC"
      }
    },
    {
      "cell_type": "code",
      "source": [
        "a=[1,3,5,7,9]\n",
        "print(a[0]) #0, 리스트의 첫번째 값\n",
        "print(a[1])\n",
        "print(a[2])\n",
        "print(a[3])\n",
        "print(a[4]) #4, 리스트의 마지막 값"
      ],
      "metadata": {
        "colab": {
          "base_uri": "https://localhost:8080/"
        },
        "id": "j06WSnYL3ye0",
        "outputId": "93b49ec9-15fe-4b8a-8243-213d2cd3d96b"
      },
      "execution_count": 6,
      "outputs": [
        {
          "output_type": "stream",
          "name": "stdout",
          "text": [
            "1\n",
            "3\n",
            "5\n",
            "7\n",
            "9\n"
          ]
        }
      ]
    },
    {
      "cell_type": "markdown",
      "source": [
        "## 리스트의 슬라이싱"
      ],
      "metadata": {
        "id": "LCyiKP-H5uOb"
      }
    },
    {
      "cell_type": "code",
      "source": [
        "a = [1,3,5,7,9]\n",
        "a[0:3] #0부터 3-1=2까지 값을 연이어서 출력\n"
      ],
      "metadata": {
        "colab": {
          "base_uri": "https://localhost:8080/"
        },
        "id": "jZ-JAIBk5tpW",
        "outputId": "4ec4efa6-73ba-4c5e-91ab-3e65854b2f46"
      },
      "execution_count": 7,
      "outputs": [
        {
          "output_type": "execute_result",
          "data": {
            "text/plain": [
              "[1, 3, 5]"
            ]
          },
          "metadata": {},
          "execution_count": 7
        }
      ]
    },
    {
      "cell_type": "code",
      "source": [
        "a[1:3]"
      ],
      "metadata": {
        "colab": {
          "base_uri": "https://localhost:8080/"
        },
        "id": "_gkSlQ5X59dk",
        "outputId": "2f986448-21ff-4274-e19f-00b4bcbeb7c3"
      },
      "execution_count": 8,
      "outputs": [
        {
          "output_type": "execute_result",
          "data": {
            "text/plain": [
              "[3, 5]"
            ]
          },
          "metadata": {},
          "execution_count": 8
        }
      ]
    },
    {
      "cell_type": "code",
      "source": [
        "a[2:]"
      ],
      "metadata": {
        "colab": {
          "base_uri": "https://localhost:8080/"
        },
        "id": "YIVW8le16AXV",
        "outputId": "8ad32f80-bb21-43f5-dfea-1ec473c00832"
      },
      "execution_count": 9,
      "outputs": [
        {
          "output_type": "execute_result",
          "data": {
            "text/plain": [
              "[5, 7, 9]"
            ]
          },
          "metadata": {},
          "execution_count": 9
        }
      ]
    },
    {
      "cell_type": "code",
      "source": [
        "a[:2]"
      ],
      "metadata": {
        "colab": {
          "base_uri": "https://localhost:8080/"
        },
        "id": "QrJZhSE16E9j",
        "outputId": "2798944f-7652-41b2-f656-0953020b7d1e"
      },
      "execution_count": 10,
      "outputs": [
        {
          "output_type": "execute_result",
          "data": {
            "text/plain": [
              "[1, 3]"
            ]
          },
          "metadata": {},
          "execution_count": 10
        }
      ]
    },
    {
      "cell_type": "markdown",
      "source": [
        "## 리스트 값의 변경"
      ],
      "metadata": {
        "id": "HOejeupp6RUX"
      }
    },
    {
      "cell_type": "code",
      "source": [
        "x = [1,3,5,7,9]\n",
        "x[0]"
      ],
      "metadata": {
        "colab": {
          "base_uri": "https://localhost:8080/"
        },
        "id": "WRSNPXsZ6Tcn",
        "outputId": "ce5dfa40-f86c-4627-c607-9c1e7c8e4f4d"
      },
      "execution_count": 11,
      "outputs": [
        {
          "output_type": "execute_result",
          "data": {
            "text/plain": [
              "1"
            ]
          },
          "metadata": {},
          "execution_count": 11
        }
      ]
    },
    {
      "cell_type": "code",
      "source": [
        "# 위 리스트의 첫번째 값을 11로 변경하고 싶다\n",
        "x[0] = 11\n",
        "print(x)"
      ],
      "metadata": {
        "colab": {
          "base_uri": "https://localhost:8080/"
        },
        "id": "6elrHgiy6bfp",
        "outputId": "c36e4571-6fde-4e13-bbab-5af307a9785a"
      },
      "execution_count": 12,
      "outputs": [
        {
          "output_type": "stream",
          "name": "stdout",
          "text": [
            "[11, 3, 5, 7, 9]\n"
          ]
        }
      ]
    },
    {
      "cell_type": "code",
      "source": [
        "x[1] = 12\n",
        "print(x)"
      ],
      "metadata": {
        "colab": {
          "base_uri": "https://localhost:8080/"
        },
        "id": "3cPGoULu6lxg",
        "outputId": "6dbbb5e8-814f-4f8a-c962-d01db4a931df"
      },
      "execution_count": 13,
      "outputs": [
        {
          "output_type": "stream",
          "name": "stdout",
          "text": [
            "[11, 12, 5, 7, 9]\n"
          ]
        }
      ]
    },
    {
      "cell_type": "markdown",
      "source": [
        "## 기존의 리스트에 값을 추가"
      ],
      "metadata": {
        "id": "8WlGBsSB6r_Z"
      }
    },
    {
      "cell_type": "code",
      "source": [
        "# 리스트 x가 가진 메소드를 이용하여 기존의 x값에 새로운 값을 추가할 수 있다.\n",
        "# 메소드 호출 변수명.메소드\n",
        "# 메소드는 일종의 함수 x에 대해서 행할 수 있는\n",
        "x.append(1)\n",
        "print(x)"
      ],
      "metadata": {
        "colab": {
          "base_uri": "https://localhost:8080/"
        },
        "id": "CE83nR5j604j",
        "outputId": "bf009f9e-83ea-4edb-f1d9-36888849ab4f"
      },
      "execution_count": 15,
      "outputs": [
        {
          "output_type": "stream",
          "name": "stdout",
          "text": [
            "[11, 12, 5, 7, 9, 1]\n"
          ]
        }
      ]
    },
    {
      "cell_type": "code",
      "source": [
        "x.append(3)\n",
        "print(x)"
      ],
      "metadata": {
        "colab": {
          "base_uri": "https://localhost:8080/"
        },
        "id": "y2mXItIv7fWZ",
        "outputId": "014f40bc-abc1-436a-e72b-47df84be153c"
      },
      "execution_count": 16,
      "outputs": [
        {
          "output_type": "stream",
          "name": "stdout",
          "text": [
            "[11, 12, 5, 7, 9, 1, 3]\n"
          ]
        }
      ]
    },
    {
      "cell_type": "markdown",
      "source": [
        "## 리스트에서 값 지우기"
      ],
      "metadata": {
        "id": "yKAFYbts7rhN"
      }
    },
    {
      "cell_type": "code",
      "source": [
        "del x[0]\n",
        "print(x)"
      ],
      "metadata": {
        "colab": {
          "base_uri": "https://localhost:8080/"
        },
        "id": "VOFdGC7z7uIq",
        "outputId": "16b1e3af-3cb6-4f06-ef3d-374b88837695"
      },
      "execution_count": 18,
      "outputs": [
        {
          "output_type": "stream",
          "name": "stdout",
          "text": [
            "[12, 5, 7, 9, 1, 3]\n"
          ]
        }
      ]
    },
    {
      "cell_type": "code",
      "source": [
        "del x[0]\n",
        "print(x)"
      ],
      "metadata": {
        "colab": {
          "base_uri": "https://localhost:8080/"
        },
        "id": "lFnf-tNx7zTm",
        "outputId": "d1ed9511-6531-4c5c-d9cd-939ae84a7fac"
      },
      "execution_count": 19,
      "outputs": [
        {
          "output_type": "stream",
          "name": "stdout",
          "text": [
            "[5, 7, 9, 1, 3]\n"
          ]
        }
      ]
    },
    {
      "cell_type": "code",
      "source": [
        "del x[3]\n",
        "print(x)"
      ],
      "metadata": {
        "colab": {
          "base_uri": "https://localhost:8080/"
        },
        "id": "IjEgljmr73_M",
        "outputId": "a7ddc524-1aad-4d1d-a84a-9a3af49d32b5"
      },
      "execution_count": 20,
      "outputs": [
        {
          "output_type": "stream",
          "name": "stdout",
          "text": [
            "[5, 7, 9, 3]\n"
          ]
        }
      ]
    },
    {
      "cell_type": "markdown",
      "source": [
        "## 복수할당"
      ],
      "metadata": {
        "id": "UoiwXRWO78JA"
      }
    },
    {
      "cell_type": "code",
      "source": [
        "x=[1,2,3]\n",
        "a=x[0]\n",
        "b=x[1]\n",
        "c=x[2]\n",
        "print(a,b,c)"
      ],
      "metadata": {
        "colab": {
          "base_uri": "https://localhost:8080/"
        },
        "id": "HjJmOV2n9Nju",
        "outputId": "3e9c5d3a-80e7-446d-d0f9-723510d5616d"
      },
      "execution_count": 27,
      "outputs": [
        {
          "output_type": "stream",
          "name": "stdout",
          "text": [
            "1 2 3\n"
          ]
        }
      ]
    },
    {
      "cell_type": "code",
      "source": [
        "a,b,c=x\n",
        "print(a,b,c)"
      ],
      "metadata": {
        "colab": {
          "base_uri": "https://localhost:8080/"
        },
        "id": "BuJUdoFD9aSX",
        "outputId": "d2ac790b-8edc-4577-d5cd-b427dfa15b3d"
      },
      "execution_count": 28,
      "outputs": [
        {
          "output_type": "stream",
          "name": "stdout",
          "text": [
            "1 2 3\n"
          ]
        }
      ]
    },
    {
      "cell_type": "code",
      "source": [
        "def double(x):\n",
        "    return x*5,x*10\n",
        "\n",
        "x,y=double(10)\n",
        "print(x,y)"
      ],
      "metadata": {
        "colab": {
          "base_uri": "https://localhost:8080/"
        },
        "id": "85UnPVEq9jk3",
        "outputId": "394429cc-1926-47cb-f193-f3eed8a21c67"
      },
      "execution_count": 30,
      "outputs": [
        {
          "output_type": "stream",
          "name": "stdout",
          "text": [
            "50 100\n"
          ]
        }
      ]
    },
    {
      "cell_type": "markdown",
      "source": [
        "## 리스트 메소드"
      ],
      "metadata": {
        "id": "mQ9lo3tu9-R5"
      }
    },
    {
      "cell_type": "code",
      "source": [
        "a = [5,27,3,12,5]\n",
        "# count -> a안에 들어있는 특정 값의 갯수\n",
        "a.count(5)"
      ],
      "metadata": {
        "colab": {
          "base_uri": "https://localhost:8080/"
        },
        "id": "X3H9-flc-AWw",
        "outputId": "9ac0a634-7c1a-45ed-aac3-0f597e0b48fa"
      },
      "execution_count": 33,
      "outputs": [
        {
          "output_type": "execute_result",
          "data": {
            "text/plain": [
              "2"
            ]
          },
          "metadata": {},
          "execution_count": 33
        }
      ]
    },
    {
      "cell_type": "code",
      "source": [
        "# insert -> 특정 위치에 삽입\n",
        "a.insert(1,4) #1번째 인덱스 위치에 4를 추가하고 옆으로 밀어라\n",
        "print(a)"
      ],
      "metadata": {
        "colab": {
          "base_uri": "https://localhost:8080/"
        },
        "id": "mPih9TPi-WfG",
        "outputId": "ac1444fb-ee0f-46dc-af6f-ba269c098398"
      },
      "execution_count": 34,
      "outputs": [
        {
          "output_type": "stream",
          "name": "stdout",
          "text": [
            "[5, 4, 27, 3, 12, 5]\n"
          ]
        }
      ]
    },
    {
      "cell_type": "code",
      "source": [
        "# sort -> 정렬\n",
        "a.sort()"
      ],
      "metadata": {
        "id": "DKuUj0Zm-miy"
      },
      "execution_count": 35,
      "outputs": []
    },
    {
      "cell_type": "code",
      "source": [
        "print(a)"
      ],
      "metadata": {
        "colab": {
          "base_uri": "https://localhost:8080/"
        },
        "id": "ixfMiGY2-riN",
        "outputId": "ad41216c-11da-41a3-b452-21c07b34542b"
      },
      "execution_count": 36,
      "outputs": [
        {
          "output_type": "stream",
          "name": "stdout",
          "text": [
            "[3, 4, 5, 5, 12, 27]\n"
          ]
        }
      ]
    }
  ]
}