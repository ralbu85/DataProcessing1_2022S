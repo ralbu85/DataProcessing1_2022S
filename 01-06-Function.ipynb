{
  "nbformat": 4,
  "nbformat_minor": 0,
  "metadata": {
    "colab": {
      "name": "01-06-Function.ipynb",
      "provenance": []
    },
    "kernelspec": {
      "name": "python3",
      "display_name": "Python 3"
    },
    "language_info": {
      "name": "python"
    }
  },
  "cells": [
    {
      "cell_type": "markdown",
      "source": [
        "## 함수의 정의"
      ],
      "metadata": {
        "id": "bQlA53qRrtjF"
      }
    },
    {
      "cell_type": "code",
      "execution_count": 1,
      "metadata": {
        "colab": {
          "base_uri": "https://localhost:8080/"
        },
        "id": "E-a5SntCrCBf",
        "outputId": "bde626eb-7f93-4341-bf99-bbf114c48752"
      },
      "outputs": [
        {
          "output_type": "stream",
          "name": "stdout",
          "text": [
            "hello\n",
            "world\n"
          ]
        }
      ],
      "source": [
        "print(\"hello\")\n",
        "print(\"world\")"
      ]
    },
    {
      "cell_type": "code",
      "source": [
        "# 함수정의\n",
        "# 실행할 코드블럭과 그에 대한 이름을 정의\n",
        "def my_function():\n",
        "    print(\"hello\")\n",
        "    print(\"world\")"
      ],
      "metadata": {
        "id": "wFZPjanbr2s1"
      },
      "execution_count": 2,
      "outputs": []
    },
    {
      "cell_type": "code",
      "source": [
        "print('test')\n",
        "my_function()\n",
        "print('test')"
      ],
      "metadata": {
        "colab": {
          "base_uri": "https://localhost:8080/"
        },
        "id": "SeRCJaGYsNW3",
        "outputId": "ddf71076-8d3c-4808-b82f-bc2f6fca4acc"
      },
      "execution_count": 4,
      "outputs": [
        {
          "output_type": "stream",
          "name": "stdout",
          "text": [
            "test\n",
            "hello\n",
            "world\n",
            "test\n"
          ]
        }
      ]
    },
    {
      "cell_type": "markdown",
      "source": [
        "## 함수의 입력변수"
      ],
      "metadata": {
        "id": "WD7bJIrxswWD"
      }
    },
    {
      "cell_type": "code",
      "source": [
        "def double(x):\n",
        "    result = 2*x\n",
        "    print(result)"
      ],
      "metadata": {
        "id": "kAqpmJhDszAY"
      },
      "execution_count": 5,
      "outputs": []
    },
    {
      "cell_type": "code",
      "source": [
        "double(2)\n",
        "double(3)\n",
        "double(4)"
      ],
      "metadata": {
        "colab": {
          "base_uri": "https://localhost:8080/"
        },
        "id": "oXPbPDmSs-KS",
        "outputId": "47fbe100-e2d0-46d0-907b-f5db5e161813"
      },
      "execution_count": 6,
      "outputs": [
        {
          "output_type": "stream",
          "name": "stdout",
          "text": [
            "4\n",
            "6\n",
            "8\n"
          ]
        }
      ]
    },
    {
      "cell_type": "code",
      "source": [
        "my = double(3)\n",
        "print(my)"
      ],
      "metadata": {
        "colab": {
          "base_uri": "https://localhost:8080/"
        },
        "id": "satkdd7jtXgi",
        "outputId": "70330840-a647-4735-c90e-f88aba02047f"
      },
      "execution_count": 7,
      "outputs": [
        {
          "output_type": "stream",
          "name": "stdout",
          "text": [
            "6\n",
            "None\n"
          ]
        }
      ]
    },
    {
      "cell_type": "markdown",
      "source": [
        "## 함수의 출력변수"
      ],
      "metadata": {
        "id": "vJEij8rPt02t"
      }
    },
    {
      "cell_type": "code",
      "source": [
        "def double(x):\n",
        "    result = 2*x\n",
        "    return result "
      ],
      "metadata": {
        "id": "NryIK94ot28t"
      },
      "execution_count": 8,
      "outputs": []
    },
    {
      "cell_type": "code",
      "source": [
        "y = double(2)\n",
        "print(y)\n",
        "y = double(10)\n",
        "print(y)\n",
        "z = double(30)\n",
        "print(z)"
      ],
      "metadata": {
        "colab": {
          "base_uri": "https://localhost:8080/"
        },
        "id": "Vkqxg4gpt9t3",
        "outputId": "6d9cb469-f18f-49a1-bcc3-ac5e71ae7c7e"
      },
      "execution_count": 9,
      "outputs": [
        {
          "output_type": "stream",
          "name": "stdout",
          "text": [
            "4\n",
            "20\n",
            "60\n"
          ]
        }
      ]
    },
    {
      "cell_type": "markdown",
      "source": [
        "## 입력값이 여러개인 함수"
      ],
      "metadata": {
        "id": "zBJKXTa8ufL4"
      }
    },
    {
      "cell_type": "code",
      "source": [
        "# 입력변수를 여러개를 함수에 넣고 싶다면\n",
        "# 콤마로 서로다른 이름의 변수로 구분하여 넣는다.\n",
        "def jegop(x,y):    \n",
        "    return x**y"
      ],
      "metadata": {
        "id": "dO9ah2O9uhlD"
      },
      "execution_count": 10,
      "outputs": []
    },
    {
      "cell_type": "code",
      "source": [
        "y=jegop(2,10)\n",
        "print(y)"
      ],
      "metadata": {
        "colab": {
          "base_uri": "https://localhost:8080/"
        },
        "id": "qs1gBw3Duwg8",
        "outputId": "5a64636d-484c-4a0a-8ff6-287f82105fe8"
      },
      "execution_count": 13,
      "outputs": [
        {
          "output_type": "stream",
          "name": "stdout",
          "text": [
            "1024\n"
          ]
        }
      ]
    },
    {
      "cell_type": "markdown",
      "source": [
        "## 지역변수"
      ],
      "metadata": {
        "id": "__wtdI-3u_yn"
      }
    },
    {
      "cell_type": "code",
      "source": [
        "def tenTimes(x):\n",
        "    z = x*10\n",
        "    return z"
      ],
      "metadata": {
        "id": "1AzvZ8NVvN-2"
      },
      "execution_count": 14,
      "outputs": []
    },
    {
      "cell_type": "code",
      "source": [
        "z=5\n",
        "tenTimes(10)\n",
        "print(z)"
      ],
      "metadata": {
        "colab": {
          "base_uri": "https://localhost:8080/"
        },
        "id": "-f1kMzqMwn4h",
        "outputId": "d511d5f0-7e13-46be-91b6-b9acf85ca685"
      },
      "execution_count": 15,
      "outputs": [
        {
          "output_type": "stream",
          "name": "stdout",
          "text": [
            "5\n"
          ]
        }
      ]
    },
    {
      "cell_type": "code",
      "source": [
        "x=3\n",
        "tenTimes(10)\n",
        "print(x)"
      ],
      "metadata": {
        "colab": {
          "base_uri": "https://localhost:8080/"
        },
        "id": "PlU_c009w3Bh",
        "outputId": "1da25cd1-640c-4f2c-83c9-ed8697c4917f"
      },
      "execution_count": 16,
      "outputs": [
        {
          "output_type": "stream",
          "name": "stdout",
          "text": [
            "3\n"
          ]
        }
      ]
    },
    {
      "cell_type": "markdown",
      "source": [
        "## 함수를 사용한 프로그램의 구조화"
      ],
      "metadata": {
        "id": "722MAPzCu_55"
      }
    },
    {
      "cell_type": "code",
      "source": [
        "def print_line():\n",
        "    print('-'*50)\n",
        "\n",
        "def print_five():\n",
        "    for i in range(5):\n",
        "        print('hello world')\n",
        "\n",
        "def print_star():\n",
        "    print('*'*50)\n",
        "\n",
        "print_line()\n",
        "print_star()\n",
        "print_five()\n",
        "print_star()\n",
        "print_line()\n"
      ],
      "metadata": {
        "colab": {
          "base_uri": "https://localhost:8080/"
        },
        "id": "r_eUFNHMxmeL",
        "outputId": "fba1bc8c-7f66-4c22-880c-dea633fb18fd"
      },
      "execution_count": 22,
      "outputs": [
        {
          "output_type": "stream",
          "name": "stdout",
          "text": [
            "--------------------------------------------------\n",
            "**************************************************\n",
            "hello world\n",
            "hello world\n",
            "hello world\n",
            "hello world\n",
            "hello world\n",
            "**************************************************\n",
            "--------------------------------------------------\n"
          ]
        }
      ]
    },
    {
      "cell_type": "markdown",
      "source": [
        "## 함수의 입출력값에는 제한이 없다"
      ],
      "metadata": {
        "id": "Shq_J2WOyVtA"
      }
    },
    {
      "cell_type": "code",
      "source": [
        "# a를 리스트로 보고\n",
        "# 리스트 안에 있는 모든 숫자의 합\n",
        "def sum_list(a):\n",
        "    result = 0\n",
        "    for i in a:\n",
        "        result = result + i\n",
        "    return result\n",
        "\n",
        "result=sum_list([1,3,5,4,2])\n",
        "print(result)\n"
      ],
      "metadata": {
        "colab": {
          "base_uri": "https://localhost:8080/"
        },
        "id": "5pqgWVbIyYod",
        "outputId": "73ddc5e9-e549-4b00-d1e4-398657888dce"
      },
      "execution_count": 23,
      "outputs": [
        {
          "output_type": "stream",
          "name": "stdout",
          "text": [
            "15\n"
          ]
        }
      ]
    },
    {
      "cell_type": "code",
      "source": [
        "for i in 3:\n",
        "    print(i)"
      ],
      "metadata": {
        "colab": {
          "base_uri": "https://localhost:8080/",
          "height": 183
        },
        "id": "vkIE7BNoy3Ol",
        "outputId": "9e39b2ec-6595-45c9-afa8-73fc90b12f26"
      },
      "execution_count": 25,
      "outputs": [
        {
          "output_type": "error",
          "ename": "TypeError",
          "evalue": "ignored",
          "traceback": [
            "\u001b[0;31m---------------------------------------------------------------------------\u001b[0m",
            "\u001b[0;31mTypeError\u001b[0m                                 Traceback (most recent call last)",
            "\u001b[0;32m<ipython-input-25-9067fefa4c48>\u001b[0m in \u001b[0;36m<module>\u001b[0;34m()\u001b[0m\n\u001b[0;32m----> 1\u001b[0;31m \u001b[0;32mfor\u001b[0m \u001b[0mi\u001b[0m \u001b[0;32min\u001b[0m \u001b[0;36m3\u001b[0m\u001b[0;34m:\u001b[0m\u001b[0;34m\u001b[0m\u001b[0;34m\u001b[0m\u001b[0m\n\u001b[0m\u001b[1;32m      2\u001b[0m     \u001b[0mprint\u001b[0m\u001b[0;34m(\u001b[0m\u001b[0mi\u001b[0m\u001b[0;34m)\u001b[0m\u001b[0;34m\u001b[0m\u001b[0;34m\u001b[0m\u001b[0m\n",
            "\u001b[0;31mTypeError\u001b[0m: 'int' object is not iterable"
          ]
        }
      ]
    },
    {
      "cell_type": "markdown",
      "source": [
        "## 함수안의 함수"
      ],
      "metadata": {
        "id": "5b7kYdPfzRtL"
      }
    },
    {
      "cell_type": "code",
      "source": [
        "def print_line():\n",
        "    print('-'*50)\n",
        "\n",
        "def print_five():\n",
        "    for i in range(5):\n",
        "        print('hello world')\n",
        "\n",
        "def print_star():\n",
        "    print('*'*50)\n",
        "\n",
        "def main():\n",
        "    print_line()\n",
        "    print_star()    \n",
        "    print_five()\n",
        "    print_star()\n",
        "    print_line()\n",
        "\n",
        "main()"
      ],
      "metadata": {
        "colab": {
          "base_uri": "https://localhost:8080/"
        },
        "id": "HY33OEytzUEF",
        "outputId": "892247be-31dd-433f-8c5c-de3231a79d62"
      },
      "execution_count": 27,
      "outputs": [
        {
          "output_type": "stream",
          "name": "stdout",
          "text": [
            "--------------------------------------------------\n",
            "**************************************************\n",
            "hello world\n",
            "hello world\n",
            "hello world\n",
            "hello world\n",
            "hello world\n",
            "**************************************************\n",
            "--------------------------------------------------\n"
          ]
        }
      ]
    },
    {
      "cell_type": "code",
      "source": [
        "def square(x):\n",
        "    return x**2\n",
        "\n",
        "def my_sum(x):\n",
        "    result=0\n",
        "    for i in range(x+1):\n",
        "        result=result+square(i)\n",
        "    return result\n",
        "\n",
        "print(my_sum(3)) #1+4+9\n",
        "print(my_sum(5)) #1+4+9+16+25"
      ],
      "metadata": {
        "colab": {
          "base_uri": "https://localhost:8080/"
        },
        "id": "WPWBX9MSzqGY",
        "outputId": "5128677a-33bb-4099-bb1c-2e04efe9ef15"
      },
      "execution_count": 29,
      "outputs": [
        {
          "output_type": "stream",
          "name": "stdout",
          "text": [
            "14\n",
            "55\n"
          ]
        }
      ]
    },
    {
      "cell_type": "markdown",
      "source": [
        "## 함수의 결과값을 입력값으로 사용"
      ],
      "metadata": {
        "id": "xqqXyPVm0VsM"
      }
    },
    {
      "cell_type": "code",
      "source": [
        "def f(x):\n",
        "    return x**2\n",
        "\n",
        "def g(y):\n",
        "    return y+1\n",
        "\n",
        "g(f(3)) "
      ],
      "metadata": {
        "colab": {
          "base_uri": "https://localhost:8080/"
        },
        "id": "7KjEK9Ka0Xwv",
        "outputId": "ceae4a29-0a90-49ac-ef39-4bb9e5ae41a7"
      },
      "execution_count": 30,
      "outputs": [
        {
          "output_type": "execute_result",
          "data": {
            "text/plain": [
              "10"
            ]
          },
          "metadata": {},
          "execution_count": 30
        }
      ]
    }
  ]
}