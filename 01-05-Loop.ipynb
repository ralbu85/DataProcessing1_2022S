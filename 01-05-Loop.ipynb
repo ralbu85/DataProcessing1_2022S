{
  "nbformat": 4,
  "nbformat_minor": 0,
  "metadata": {
    "colab": {
      "name": "05_반복문.ipynb",
      "provenance": []
    },
    "kernelspec": {
      "name": "python3",
      "display_name": "Python 3"
    },
    "language_info": {
      "name": "python"
    }
  },
  "cells": [
    {
      "cell_type": "markdown",
      "source": [
        "## 리스트"
      ],
      "metadata": {
        "id": "ULWWw75SbuMZ"
      }
    },
    {
      "cell_type": "code",
      "source": [
        "x=[1,3,5,7]\n",
        "y=['a',35,'hello',20] # 리스트 안에 다양한 종류의 값을 담을 수 있다.\n",
        "z=[True, False, 1, 3] # 불리언도 담을 수 있다.\n",
        "m=[] # 심지어 값이 없어도 된다.\n",
        "print(x)\n",
        "print(y)\n",
        "print(z)\n",
        "print(m)"
      ],
      "metadata": {
        "colab": {
          "base_uri": "https://localhost:8080/"
        },
        "id": "qZRJPsOsbwh9",
        "outputId": "e72302f9-bfc7-4f8f-c979-83081cbbdad3"
      },
      "execution_count": null,
      "outputs": [
        {
          "output_type": "stream",
          "name": "stdout",
          "text": [
            "[1, 3, 5, 7]\n",
            "['a', 35, 'hello', 20]\n",
            "[True, False, 1, 3]\n",
            "[]\n"
          ]
        }
      ]
    },
    {
      "cell_type": "code",
      "source": [
        "mixed = ['hello',[1,2],[]]\n",
        "print(mixed)"
      ],
      "metadata": {
        "colab": {
          "base_uri": "https://localhost:8080/"
        },
        "id": "XnYk76pUcRLn",
        "outputId": "46c48f1b-8663-4eed-c65f-cca2bdcb8023"
      },
      "execution_count": null,
      "outputs": [
        {
          "output_type": "stream",
          "name": "stdout",
          "text": [
            "['hello', [1, 2], []]\n"
          ]
        }
      ]
    },
    {
      "cell_type": "markdown",
      "source": [
        "## for를 이용한 반복"
      ],
      "metadata": {
        "id": "LEgy2p2Pcv3s"
      }
    },
    {
      "cell_type": "code",
      "source": [
        "numbers = [1,2,3,4,5]\n",
        "for i in numbers:\n",
        "    print(i)\n",
        "\n"
      ],
      "metadata": {
        "colab": {
          "base_uri": "https://localhost:8080/"
        },
        "id": "aA4QMIX4czLW",
        "outputId": "c7b86842-e563-42aa-8c8d-ebd67e96d464"
      },
      "execution_count": null,
      "outputs": [
        {
          "output_type": "stream",
          "name": "stdout",
          "text": [
            "1\n",
            "2\n",
            "3\n",
            "4\n",
            "5\n"
          ]
        }
      ]
    },
    {
      "cell_type": "code",
      "source": [
        "numbers = [1,2,3,4,5]\n",
        "# hello를 다섯번 출력하는 프로그램\n",
        "for i in numbers:\n",
        "    print('hello')"
      ],
      "metadata": {
        "colab": {
          "base_uri": "https://localhost:8080/"
        },
        "id": "g5dJ9xvadrT-",
        "outputId": "3954102f-dfc6-403c-84cd-05e301a6cccd"
      },
      "execution_count": null,
      "outputs": [
        {
          "output_type": "stream",
          "name": "stdout",
          "text": [
            "hello\n",
            "hello\n",
            "hello\n",
            "hello\n",
            "hello\n"
          ]
        }
      ]
    },
    {
      "cell_type": "code",
      "source": [
        "numbers = [1,2,3,4,5]\n",
        "# hello를 다섯번 출력하는 프로그램\n",
        "for i in numbers:\n",
        "    print(i)\n",
        "    print('hello')"
      ],
      "metadata": {
        "colab": {
          "base_uri": "https://localhost:8080/"
        },
        "id": "XruapFjcd8do",
        "outputId": "3d18b092-8d56-42b0-9c29-3a3b7a367679"
      },
      "execution_count": null,
      "outputs": [
        {
          "output_type": "stream",
          "name": "stdout",
          "text": [
            "1\n",
            "hello\n",
            "2\n",
            "hello\n",
            "3\n",
            "hello\n",
            "4\n",
            "hello\n",
            "5\n",
            "hello\n"
          ]
        }
      ]
    },
    {
      "cell_type": "code",
      "source": [
        "# 위에서 실행된 변수들을 모두 기억하고 있다.\n",
        "for i in numbers:\n",
        "    print(i+3) # 1+3, 2+3, 3+3, .., 5+3"
      ],
      "metadata": {
        "colab": {
          "base_uri": "https://localhost:8080/"
        },
        "id": "dAh2_pBFeJyP",
        "outputId": "956455f3-cdee-45b9-93c8-e71e3a3a8534"
      },
      "execution_count": null,
      "outputs": [
        {
          "output_type": "stream",
          "name": "stdout",
          "text": [
            "4\n",
            "5\n",
            "6\n",
            "7\n",
            "8\n"
          ]
        }
      ]
    },
    {
      "cell_type": "code",
      "source": [
        "temp = 'any'\n",
        "print ('Hi '+temp+' Man!')"
      ],
      "metadata": {
        "colab": {
          "base_uri": "https://localhost:8080/"
        },
        "id": "kI4AzkmgefUk",
        "outputId": "6547f8ca-e881-4d17-871e-811426fadc51"
      },
      "execution_count": null,
      "outputs": [
        {
          "output_type": "stream",
          "name": "stdout",
          "text": [
            "Hi any Man!\n"
          ]
        }
      ]
    },
    {
      "cell_type": "code",
      "source": [
        "x = ['kim', 'na', 'park', 'lee']\n",
        "for i in x:\n",
        "    print('Hi '+i+' Nice to meet you!')"
      ],
      "metadata": {
        "colab": {
          "base_uri": "https://localhost:8080/"
        },
        "id": "MHxU6tJpeq_8",
        "outputId": "e35c2236-690e-4488-d913-9506e2fa3f54"
      },
      "execution_count": null,
      "outputs": [
        {
          "output_type": "stream",
          "name": "stdout",
          "text": [
            "Hi kim Nice to meet you!\n",
            "Hi na Nice to meet you!\n",
            "Hi park Nice to meet you!\n",
            "Hi lee Nice to meet you!\n"
          ]
        }
      ]
    },
    {
      "cell_type": "markdown",
      "source": [
        "## range 명령어"
      ],
      "metadata": {
        "id": "YHfvHpwqfLg4"
      }
    },
    {
      "cell_type": "code",
      "source": [
        "for i in range(5): #range(5) = [0,1,2,3,4]\n",
        "    print(i)"
      ],
      "metadata": {
        "colab": {
          "base_uri": "https://localhost:8080/"
        },
        "id": "ZpUg2wqcfNps",
        "outputId": "2696d83c-b030-4ab3-f792-16d77c327488"
      },
      "execution_count": null,
      "outputs": [
        {
          "output_type": "stream",
          "name": "stdout",
          "text": [
            "0\n",
            "1\n",
            "2\n",
            "3\n",
            "4\n"
          ]
        }
      ]
    },
    {
      "cell_type": "code",
      "source": [
        "for i in range(5):\n",
        "    print('hello')"
      ],
      "metadata": {
        "colab": {
          "base_uri": "https://localhost:8080/"
        },
        "id": "AVlOk9knfiTV",
        "outputId": "ff69747b-3383-4580-ca4b-2c0700b1f62f"
      },
      "execution_count": null,
      "outputs": [
        {
          "output_type": "stream",
          "name": "stdout",
          "text": [
            "hello\n",
            "hello\n",
            "hello\n",
            "hello\n",
            "hello\n"
          ]
        }
      ]
    },
    {
      "cell_type": "markdown",
      "source": [
        "## 변수업데이트"
      ],
      "metadata": {
        "id": "ad09JCAAt6BE"
      }
    },
    {
      "cell_type": "code",
      "source": [
        "n = 3\n",
        "n = n + 3\n",
        "print(n)"
      ],
      "metadata": {
        "colab": {
          "base_uri": "https://localhost:8080/"
        },
        "id": "VbKa9A4Vt7Rc",
        "outputId": "cc3e53f6-8546-4310-bcc7-fe18b523ed5a"
      },
      "execution_count": null,
      "outputs": [
        {
          "output_type": "stream",
          "name": "stdout",
          "text": [
            "6\n"
          ]
        }
      ]
    },
    {
      "cell_type": "code",
      "source": [
        "n = 3 # n = 3\n",
        "n = n + 3 # n = 3+3\n",
        "n = n + 3 # n = 6+3\n",
        "n = n + 3 # n = 9+3 \n",
        "print(n)"
      ],
      "metadata": {
        "colab": {
          "base_uri": "https://localhost:8080/"
        },
        "id": "5ZaOTS-SuO41",
        "outputId": "6443965d-b405-49a6-ec04-c77b0666c136"
      },
      "execution_count": null,
      "outputs": [
        {
          "output_type": "stream",
          "name": "stdout",
          "text": [
            "12\n"
          ]
        }
      ]
    },
    {
      "cell_type": "code",
      "source": [
        "x=0\n",
        "for i in range(5):\n",
        "    x=x+1\n",
        "print(x)"
      ],
      "metadata": {
        "colab": {
          "base_uri": "https://localhost:8080/"
        },
        "id": "wwx-eyZqui9z",
        "outputId": "ac99486c-3cf5-40c0-9980-0d8338c237c2"
      },
      "execution_count": null,
      "outputs": [
        {
          "output_type": "stream",
          "name": "stdout",
          "text": [
            "5\n"
          ]
        }
      ]
    },
    {
      "cell_type": "code",
      "source": [
        "x=0\n",
        "for i in range(5):\n",
        "    x=x+i # 0+1+2+3+4\n",
        "print(x)"
      ],
      "metadata": {
        "colab": {
          "base_uri": "https://localhost:8080/"
        },
        "id": "5uuD_533uwOy",
        "outputId": "9658afdc-4a5e-4e41-f02f-d2aa258371e3"
      },
      "execution_count": null,
      "outputs": [
        {
          "output_type": "stream",
          "name": "stdout",
          "text": [
            "10\n"
          ]
        }
      ]
    },
    {
      "cell_type": "code",
      "source": [
        "x=0\n",
        "for i in [1,3,5,7,9]:\n",
        "    x=x+i\n",
        "print(x)"
      ],
      "metadata": {
        "colab": {
          "base_uri": "https://localhost:8080/"
        },
        "id": "8p9DJQkAu7qz",
        "outputId": "5100fedb-ea28-4758-9fdc-9dc7c4e084ba"
      },
      "execution_count": null,
      "outputs": [
        {
          "output_type": "stream",
          "name": "stdout",
          "text": [
            "25\n"
          ]
        }
      ]
    },
    {
      "cell_type": "markdown",
      "source": [
        "## 중첩반복문"
      ],
      "metadata": {
        "id": "nJ_L3cHKvM2d"
      }
    },
    {
      "cell_type": "code",
      "source": [
        "for i in range(2):\n",
        "    print('hi')\n",
        "    for j in range(3):\n",
        "        print('there')"
      ],
      "metadata": {
        "colab": {
          "base_uri": "https://localhost:8080/"
        },
        "id": "QOhSeuC5vOIm",
        "outputId": "3c42c4d9-462f-4c18-f474-c6c77fdfe32a"
      },
      "execution_count": null,
      "outputs": [
        {
          "output_type": "stream",
          "name": "stdout",
          "text": [
            "hi\n",
            "there\n",
            "there\n",
            "there\n",
            "hi\n",
            "there\n",
            "there\n",
            "there\n"
          ]
        }
      ]
    },
    {
      "cell_type": "code",
      "source": [
        "for i in [1,3,5]:\n",
        "    for j in ['a','b','c']:\n",
        "        print(i,j)"
      ],
      "metadata": {
        "id": "76nUe1s4vs79",
        "outputId": "5a160c29-cb03-43f7-d023-6aff6b5aad65",
        "colab": {
          "base_uri": "https://localhost:8080/"
        }
      },
      "execution_count": null,
      "outputs": [
        {
          "output_type": "stream",
          "name": "stdout",
          "text": [
            "1 a\n",
            "1 b\n",
            "1 c\n",
            "3 a\n",
            "3 b\n",
            "3 c\n",
            "5 a\n",
            "5 b\n",
            "5 c\n"
          ]
        }
      ]
    }
  ]
}