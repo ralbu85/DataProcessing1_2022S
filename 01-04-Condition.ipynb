{
 "cells": [
  {
   "cell_type": "markdown",
   "id": "killing-avatar",
   "metadata": {},
   "source": [
    "# 04. 조건문"
   ]
  },
  {
   "cell_type": "code",
   "execution_count": 1,
   "id": "victorian-crystal",
   "metadata": {},
   "outputs": [
    {
     "name": "stdout",
     "output_type": "stream",
     "text": [
      "True\n",
      "False\n",
      "False\n",
      "True\n"
     ]
    }
   ],
   "source": [
    "a=3\n",
    "b=2\n",
    "print(a>b)\n",
    "print(a<b)\n",
    "print(a==b)\n",
    "print(a!=b)"
   ]
  },
  {
   "cell_type": "code",
   "execution_count": 2,
   "id": "sixth-welsh",
   "metadata": {},
   "outputs": [
    {
     "name": "stdout",
     "output_type": "stream",
     "text": [
      "True\n",
      "False\n"
     ]
    }
   ],
   "source": [
    "a='hello'\n",
    "b='hello'\n",
    "c='heRRp'\n",
    "print(a==b)\n",
    "print(a==c)\n"
   ]
  },
  {
   "cell_type": "markdown",
   "id": "judicial-shark",
   "metadata": {},
   "source": [
    "## 04-1. if문의 기본구조"
   ]
  },
  {
   "cell_type": "code",
   "execution_count": 3,
   "id": "nuclear-aside",
   "metadata": {},
   "outputs": [
    {
     "name": "stdout",
     "output_type": "stream",
     "text": [
      "Hello World\n"
     ]
    }
   ],
   "source": [
    "if True:\n",
    "    print('Hello World')"
   ]
  },
  {
   "cell_type": "code",
   "execution_count": 4,
   "id": "conscious-provision",
   "metadata": {},
   "outputs": [],
   "source": [
    "if False:\n",
    "    print('Hello World')\n",
    "    "
   ]
  },
  {
   "cell_type": "markdown",
   "id": "devoted-september",
   "metadata": {},
   "source": [
    "## 04-2. 비교연산자와 함께 if 사용"
   ]
  },
  {
   "cell_type": "code",
   "execution_count": 5,
   "id": "bound-column",
   "metadata": {},
   "outputs": [
    {
     "name": "stdout",
     "output_type": "stream",
     "text": [
      "Hello World\n"
     ]
    }
   ],
   "source": [
    "x = 3\n",
    "if x<4:\n",
    "    print('Hello World')"
   ]
  },
  {
   "cell_type": "code",
   "execution_count": 6,
   "id": "final-syndrome",
   "metadata": {},
   "outputs": [
    {
     "name": "stdout",
     "output_type": "stream",
     "text": [
      "Hello World\n"
     ]
    }
   ],
   "source": [
    "x = 5\n",
    "if x != 10:\n",
    "    print('Hello World')"
   ]
  },
  {
   "cell_type": "markdown",
   "id": "excellent-currency",
   "metadata": {},
   "source": [
    "## 04-3. 조건이 두 개일 때 (else)"
   ]
  },
  {
   "cell_type": "code",
   "execution_count": 8,
   "id": "defined-local",
   "metadata": {},
   "outputs": [
    {
     "name": "stdout",
     "output_type": "stream",
     "text": [
      "x is larger than 20.\n"
     ]
    }
   ],
   "source": [
    "x = 30\n",
    "if x>20:\n",
    "    print('x is larger than 20.')\n",
    "else:\n",
    "    print('x is less than 20.')"
   ]
  },
  {
   "cell_type": "code",
   "execution_count": 9,
   "id": "pretty-material",
   "metadata": {},
   "outputs": [
    {
     "name": "stdout",
     "output_type": "stream",
     "text": [
      "x is less than 20.\n"
     ]
    }
   ],
   "source": [
    "x = 10\n",
    "if x>20:\n",
    "    print('x is larger than 20.')\n",
    "else:\n",
    "    print('x is less than 20.')"
   ]
  },
  {
   "cell_type": "markdown",
   "id": "worthy-texas",
   "metadata": {},
   "source": [
    "## 04-4. 조건이 두 개 이상일 때 "
   ]
  },
  {
   "cell_type": "code",
   "execution_count": 11,
   "id": "lovely-expert",
   "metadata": {},
   "outputs": [
    {
     "name": "stdout",
     "output_type": "stream",
     "text": [
      "x is larger than 20.\n"
     ]
    }
   ],
   "source": [
    "x = 30\n",
    "if x>20:\n",
    "    print('x is larger than 20.')\n",
    "else: \n",
    "    if x> 10:\n",
    "        print('x is less than 20.')\n",
    "    else:\n",
    "        print('x is less than 10.')"
   ]
  },
  {
   "cell_type": "code",
   "execution_count": 12,
   "id": "silent-benefit",
   "metadata": {},
   "outputs": [
    {
     "name": "stdout",
     "output_type": "stream",
     "text": [
      "x is less than 20.\n"
     ]
    }
   ],
   "source": [
    "x = 15\n",
    "if x>20:\n",
    "    print('x is larger than 20.')\n",
    "else: \n",
    "    if x> 10:\n",
    "        print('x is less than 20.')\n",
    "    else:\n",
    "        print('x is less than 10.')"
   ]
  },
  {
   "cell_type": "code",
   "execution_count": 13,
   "id": "acknowledged-championship",
   "metadata": {},
   "outputs": [
    {
     "name": "stdout",
     "output_type": "stream",
     "text": [
      "x is less than 10.\n"
     ]
    }
   ],
   "source": [
    "x = 5\n",
    "if x>20:\n",
    "    print('x is larger than 20.')\n",
    "else: \n",
    "    if x> 10:\n",
    "        print('x is less than 20.')\n",
    "    else:\n",
    "        print('x is less than 10.')"
   ]
  },
  {
   "cell_type": "markdown",
   "id": "preliminary-verse",
   "metadata": {},
   "source": [
    "## 04-5. 코드블럭"
   ]
  },
  {
   "cell_type": "code",
   "execution_count": 14,
   "id": "lesbian-miracle",
   "metadata": {},
   "outputs": [
    {
     "name": "stdout",
     "output_type": "stream",
     "text": [
      "Hello World\n",
      "x is less than four.\n"
     ]
    }
   ],
   "source": [
    "x = 3\n",
    "if x<4:\n",
    "    print('Hello World')\n",
    "    print('x is less than four.')"
   ]
  },
  {
   "cell_type": "code",
   "execution_count": 15,
   "id": "certified-flashing",
   "metadata": {},
   "outputs": [
    {
     "name": "stdout",
     "output_type": "stream",
     "text": [
      "Hello World\n",
      "x is larger than four.\n"
     ]
    }
   ],
   "source": [
    "x = 5\n",
    "if x<4:\n",
    "    print('Hello World')\n",
    "    print('x is less than four.')\n",
    "else:\n",
    "    print('Hello World')\n",
    "    print('x is larger than four.')"
   ]
  }
 ],
 "metadata": {
  "kernelspec": {
   "display_name": "Python 3 (ipykernel)",
   "language": "python",
   "name": "python3"
  },
  "language_info": {
   "codemirror_mode": {
    "name": "ipython",
    "version": 3
   },
   "file_extension": ".py",
   "mimetype": "text/x-python",
   "name": "python",
   "nbconvert_exporter": "python",
   "pygments_lexer": "ipython3",
   "version": "3.8.10"
  }
 },
 "nbformat": 4,
 "nbformat_minor": 5
}
