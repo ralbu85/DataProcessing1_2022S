{
  "nbformat": 4,
  "nbformat_minor": 0,
  "metadata": {
    "colab": {
      "name": "04_조건문.ipynb",
      "provenance": [],
      "collapsed_sections": []
    },
    "kernelspec": {
      "name": "python3",
      "display_name": "Python 3"
    },
    "language_info": {
      "name": "python"
    }
  },
  "cells": [
    {
      "cell_type": "markdown",
      "source": [
        "## 조건문"
      ],
      "metadata": {
        "id": "N7TZLVe4UU05"
      }
    },
    {
      "cell_type": "code",
      "execution_count": 1,
      "metadata": {
        "id": "VbtBycd4PkxY",
        "colab": {
          "base_uri": "https://localhost:8080/"
        },
        "outputId": "78c05f41-1376-4207-ab5a-b9657eae8498"
      },
      "outputs": [
        {
          "output_type": "stream",
          "name": "stdout",
          "text": [
            "True\n",
            "False\n",
            "False\n",
            "True\n"
          ]
        }
      ],
      "source": [
        "## 비교연산자 (출력값: boolean)\n",
        "a=3\n",
        "b=2\n",
        "print(a>b)\n",
        "print(a<b)\n",
        "print(a==b)\n",
        "print(a!=b)\n"
      ]
    },
    {
      "cell_type": "code",
      "source": [
        "a='hello'\n",
        "b='hello'\n",
        "c='heRRp'\n",
        "print(a==b)\n",
        "print(a==c)"
      ],
      "metadata": {
        "colab": {
          "base_uri": "https://localhost:8080/"
        },
        "id": "KjthuuG8UwKf",
        "outputId": "32abe91a-75bb-4d18-96ce-643bf07a4a82"
      },
      "execution_count": 2,
      "outputs": [
        {
          "output_type": "stream",
          "name": "stdout",
          "text": [
            "True\n",
            "False\n"
          ]
        }
      ]
    },
    {
      "cell_type": "markdown",
      "source": [
        "## if 문"
      ],
      "metadata": {
        "id": "l4odnOymU4JP"
      }
    },
    {
      "cell_type": "code",
      "source": [
        "if True:\n",
        "    print('Hello World')"
      ],
      "metadata": {
        "colab": {
          "base_uri": "https://localhost:8080/"
        },
        "id": "4Z9Jj3YrU5ue",
        "outputId": "4a3aac35-0d38-4927-9f62-ee70f6e150d9"
      },
      "execution_count": 3,
      "outputs": [
        {
          "output_type": "stream",
          "name": "stdout",
          "text": [
            "Hello World\n"
          ]
        }
      ]
    },
    {
      "cell_type": "code",
      "source": [
        "if False:\n",
        "    print('Hello World')"
      ],
      "metadata": {
        "id": "JTT7gMGhVKWh"
      },
      "execution_count": 4,
      "outputs": []
    },
    {
      "cell_type": "markdown",
      "source": [
        "## 비교연산자와 함께 if 사용"
      ],
      "metadata": {
        "id": "y31M-kE4VaaQ"
      }
    },
    {
      "cell_type": "code",
      "source": [
        "x = 3\n",
        "if x<4: #3<4 -> True\n",
        "    print('Hello World')"
      ],
      "metadata": {
        "colab": {
          "base_uri": "https://localhost:8080/"
        },
        "id": "V_b0r1BDVcj-",
        "outputId": "7dcd49ad-338e-41fa-e468-bef257cb1e17"
      },
      "execution_count": 5,
      "outputs": [
        {
          "output_type": "stream",
          "name": "stdout",
          "text": [
            "Hello World\n"
          ]
        }
      ]
    },
    {
      "cell_type": "code",
      "source": [
        "x = 5\n",
        "if x<4: #5<4 -> False\n",
        "    print('Hello World')"
      ],
      "metadata": {
        "id": "sojM3C8eVnD-"
      },
      "execution_count": 6,
      "outputs": []
    },
    {
      "cell_type": "markdown",
      "source": [
        "## else"
      ],
      "metadata": {
        "id": "vZTeEU_KV9SO"
      }
    },
    {
      "cell_type": "code",
      "source": [
        "x = 10\n",
        "if x>20:\n",
        "    print('x is larger than 20')\n",
        "else:\n",
        "    print('x is less than 20')\n"
      ],
      "metadata": {
        "colab": {
          "base_uri": "https://localhost:8080/"
        },
        "id": "F7bSBHpKWA3u",
        "outputId": "24ce7ae0-bd1a-4014-b99c-49a1fdc824c9"
      },
      "execution_count": 7,
      "outputs": [
        {
          "output_type": "stream",
          "name": "stdout",
          "text": [
            "x is less than 20\n"
          ]
        }
      ]
    },
    {
      "cell_type": "markdown",
      "source": [
        "## 조건이 두개 이상일때 흐름 제어"
      ],
      "metadata": {
        "id": "3vl_xGnHXFj-"
      }
    },
    {
      "cell_type": "code",
      "source": [
        "x = 3\n",
        "if x>20:\n",
        "    print('x is larger than 20')\n",
        "else:\n",
        "    if x>5:\n",
        "        print('x is larger than 5')\n",
        "    else:\n",
        "        print('x is less than 5')\n",
        "\n",
        "# 1) x가 20보다 클때\n",
        "# 2) 5<x<20\n",
        "# 3) x<5"
      ],
      "metadata": {
        "colab": {
          "base_uri": "https://localhost:8080/"
        },
        "id": "izmQx-H1XJxG",
        "outputId": "2f1bf2b1-3188-4dc9-ed64-4c40a31d1360"
      },
      "execution_count": 8,
      "outputs": [
        {
          "output_type": "stream",
          "name": "stdout",
          "text": [
            "x is less than 5\n"
          ]
        }
      ]
    },
    {
      "cell_type": "markdown",
      "source": [
        "## else와 if의 결합 = elif"
      ],
      "metadata": {
        "id": "JbapLrOdYE0n"
      }
    },
    {
      "cell_type": "code",
      "source": [
        "x = 3\n",
        "if x>20:\n",
        "    print('x is larger than 20')\n",
        "elif x>5: # else + if = elif\n",
        "    print('x is larger than 5')\n",
        "else:\n",
        "    print('x is less than 5') "
      ],
      "metadata": {
        "colab": {
          "base_uri": "https://localhost:8080/"
        },
        "id": "-M0UwXnOYHev",
        "outputId": "842554fb-ca6a-48ee-ba1c-d3c0af5e8931"
      },
      "execution_count": 9,
      "outputs": [
        {
          "output_type": "stream",
          "name": "stdout",
          "text": [
            "x is less than 5\n"
          ]
        }
      ]
    },
    {
      "cell_type": "markdown",
      "source": [
        "## 코드블럭"
      ],
      "metadata": {
        "id": "kpioVl3uYc96"
      }
    },
    {
      "cell_type": "code",
      "source": [
        "# 파이썬에서는 코드블럭을 같은 들여쓰기 레벨로 나눈다\n",
        "# java, C {}\n",
        "# python 들여쓰기\n",
        "x = 3\n",
        "if x<5:\n",
        "    print('Hello World')\n",
        "    print('second line')\n",
        "    print('ya')"
      ],
      "metadata": {
        "colab": {
          "base_uri": "https://localhost:8080/"
        },
        "id": "1kEzFukjYeh_",
        "outputId": "a536b12b-9b85-4344-daf6-a552881ccea2"
      },
      "execution_count": 10,
      "outputs": [
        {
          "output_type": "stream",
          "name": "stdout",
          "text": [
            "Hello World\n",
            "second line\n",
            "ya\n"
          ]
        }
      ]
    }
  ]
}