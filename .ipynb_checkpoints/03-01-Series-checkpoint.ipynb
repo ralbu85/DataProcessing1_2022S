{
 "cells": [
  {
   "cell_type": "code",
   "execution_count": 3,
   "id": "loved-reverse",
   "metadata": {},
   "outputs": [],
   "source": [
    "import pandas as pd"
   ]
  },
  {
   "cell_type": "markdown",
   "id": "shared-punishment",
   "metadata": {},
   "source": [
    "## 시리즈 생성"
   ]
  },
  {
   "cell_type": "code",
   "execution_count": 4,
   "id": "floppy-corps",
   "metadata": {},
   "outputs": [
    {
     "data": {
      "text/plain": [
       "seoul      200\n",
       "busan      100\n",
       "incheon    130\n",
       "daegu       99\n",
       "dtype: int64"
      ]
     },
     "execution_count": 4,
     "metadata": {},
     "output_type": "execute_result"
    }
   ],
   "source": [
    "s = pd.Series([200,100,130,99],index=['seoul','busan','incheon','daegu'])\n",
    "s"
   ]
  },
  {
   "cell_type": "code",
   "execution_count": 5,
   "id": "southwest-titanium",
   "metadata": {},
   "outputs": [
    {
     "data": {
      "text/plain": [
       "0    200\n",
       "1    100\n",
       "2    130\n",
       "3     99\n",
       "dtype: int64"
      ]
     },
     "execution_count": 5,
     "metadata": {},
     "output_type": "execute_result"
    }
   ],
   "source": [
    "a = pd.Series([200,100,130,99])\n",
    "a"
   ]
  },
  {
   "cell_type": "code",
   "execution_count": 6,
   "id": "controversial-league",
   "metadata": {},
   "outputs": [
    {
     "data": {
      "text/plain": [
       "Index(['seoul', 'busan', 'incheon', 'daegu'], dtype='object')"
      ]
     },
     "execution_count": 6,
     "metadata": {},
     "output_type": "execute_result"
    }
   ],
   "source": [
    "s.index"
   ]
  },
  {
   "cell_type": "code",
   "execution_count": 7,
   "id": "vocational-pride",
   "metadata": {},
   "outputs": [
    {
     "data": {
      "text/plain": [
       "array([200, 100, 130,  99])"
      ]
     },
     "execution_count": 7,
     "metadata": {},
     "output_type": "execute_result"
    }
   ],
   "source": [
    "s.values"
   ]
  },
  {
   "cell_type": "markdown",
   "id": "advanced-memorabilia",
   "metadata": {},
   "source": [
    "## 시리즈 인덱싱\n"
   ]
  },
  {
   "cell_type": "code",
   "execution_count": 8,
   "id": "backed-cisco",
   "metadata": {},
   "outputs": [
    {
     "data": {
      "text/plain": [
       "200"
      ]
     },
     "execution_count": 8,
     "metadata": {},
     "output_type": "execute_result"
    }
   ],
   "source": [
    "## 순서 인덱싱\n",
    "## s.iloc[0]\n",
    "s[0]"
   ]
  },
  {
   "cell_type": "code",
   "execution_count": 9,
   "id": "hollow-frost",
   "metadata": {},
   "outputs": [
    {
     "data": {
      "text/plain": [
       "99"
      ]
     },
     "execution_count": 9,
     "metadata": {},
     "output_type": "execute_result"
    }
   ],
   "source": [
    "# 내가 사용한 인덱스 사용\n",
    "# s.loc['daegu']\n",
    "s['daegu']"
   ]
  },
  {
   "cell_type": "code",
   "execution_count": 10,
   "id": "roman-championship",
   "metadata": {},
   "outputs": [
    {
     "data": {
      "text/plain": [
       "daegu       99\n",
       "busan      100\n",
       "incheon    130\n",
       "dtype: int64"
      ]
     },
     "execution_count": 10,
     "metadata": {},
     "output_type": "execute_result"
    }
   ],
   "source": [
    "s[['daegu','busan','incheon']]"
   ]
  },
  {
   "cell_type": "code",
   "execution_count": 11,
   "id": "accepted-hopkins",
   "metadata": {},
   "outputs": [
    {
     "data": {
      "text/plain": [
       "seoul      200\n",
       "busan      100\n",
       "incheon    130\n",
       "dtype: int64"
      ]
     },
     "execution_count": 11,
     "metadata": {},
     "output_type": "execute_result"
    }
   ],
   "source": [
    "s[[0,1,2]]"
   ]
  },
  {
   "cell_type": "markdown",
   "id": "israeli-bobby",
   "metadata": {},
   "source": [
    "## 시리즈 슬라이싱"
   ]
  },
  {
   "cell_type": "code",
   "execution_count": 12,
   "id": "rapid-anthropology",
   "metadata": {},
   "outputs": [
    {
     "data": {
      "text/plain": [
       "busan      100\n",
       "incheon    130\n",
       "dtype: int64"
      ]
     },
     "execution_count": 12,
     "metadata": {},
     "output_type": "execute_result"
    }
   ],
   "source": [
    "s[1:3]"
   ]
  },
  {
   "cell_type": "code",
   "execution_count": 13,
   "id": "legendary-plymouth",
   "metadata": {},
   "outputs": [
    {
     "data": {
      "text/plain": [
       "busan      100\n",
       "incheon    130\n",
       "daegu       99\n",
       "dtype: int64"
      ]
     },
     "execution_count": 13,
     "metadata": {},
     "output_type": "execute_result"
    }
   ],
   "source": [
    "s['busan':'daegu']"
   ]
  },
  {
   "cell_type": "markdown",
   "id": "greek-barbados",
   "metadata": {},
   "source": [
    "## 조건부 인덱싱"
   ]
  },
  {
   "cell_type": "code",
   "execution_count": 14,
   "id": "normal-intermediate",
   "metadata": {},
   "outputs": [
    {
     "data": {
      "text/plain": [
       "seoul      False\n",
       "busan       True\n",
       "incheon    False\n",
       "daegu       True\n",
       "dtype: bool"
      ]
     },
     "execution_count": 14,
     "metadata": {},
     "output_type": "execute_result"
    }
   ],
   "source": [
    "s<110"
   ]
  },
  {
   "cell_type": "code",
   "execution_count": 15,
   "id": "eligible-residence",
   "metadata": {},
   "outputs": [
    {
     "data": {
      "text/plain": [
       "busan    100\n",
       "daegu     99\n",
       "dtype: int64"
      ]
     },
     "execution_count": 15,
     "metadata": {},
     "output_type": "execute_result"
    }
   ],
   "source": [
    "s[s<110]"
   ]
  },
  {
   "cell_type": "code",
   "execution_count": 16,
   "id": "polar-battle",
   "metadata": {},
   "outputs": [
    {
     "data": {
      "text/plain": [
       "seoul    200\n",
       "daegu     99\n",
       "dtype: int64"
      ]
     },
     "execution_count": 16,
     "metadata": {},
     "output_type": "execute_result"
    }
   ],
   "source": [
    "s[(s<100) | (s>150)]"
   ]
  },
  {
   "cell_type": "markdown",
   "id": "fuzzy-median",
   "metadata": {},
   "source": [
    "## 시리즈 사칙연산"
   ]
  },
  {
   "cell_type": "code",
   "execution_count": 28,
   "id": "comparable-train",
   "metadata": {},
   "outputs": [
    {
     "data": {
      "text/plain": [
       "seoul      200\n",
       "busan      100\n",
       "incheon    130\n",
       "daegu       99\n",
       "dtype: int64"
      ]
     },
     "execution_count": 28,
     "metadata": {},
     "output_type": "execute_result"
    }
   ],
   "source": [
    "s"
   ]
  },
  {
   "cell_type": "code",
   "execution_count": 29,
   "id": "convenient-television",
   "metadata": {},
   "outputs": [
    {
     "data": {
      "text/plain": [
       "seoul      400\n",
       "busan      200\n",
       "incheon    260\n",
       "daegu      198\n",
       "dtype: int64"
      ]
     },
     "execution_count": 29,
     "metadata": {},
     "output_type": "execute_result"
    }
   ],
   "source": [
    "s*2"
   ]
  },
  {
   "cell_type": "code",
   "execution_count": 30,
   "id": "greatest-hawaiian",
   "metadata": {},
   "outputs": [
    {
     "data": {
      "text/plain": [
       "seoul      300\n",
       "busan      200\n",
       "incheon    230\n",
       "daegu      199\n",
       "dtype: int64"
      ]
     },
     "execution_count": 30,
     "metadata": {},
     "output_type": "execute_result"
    }
   ],
   "source": [
    "s+100"
   ]
  },
  {
   "cell_type": "markdown",
   "id": "synthetic-scott",
   "metadata": {},
   "source": [
    "## 딕셔너리로부터 시리즈 생성"
   ]
  },
  {
   "cell_type": "code",
   "execution_count": 17,
   "id": "introductory-amendment",
   "metadata": {},
   "outputs": [],
   "source": [
    "s2 = {'seoul':200,'busan':300,'incheon':150,'daejeon':30}"
   ]
  },
  {
   "cell_type": "code",
   "execution_count": 20,
   "id": "popular-trainer",
   "metadata": {},
   "outputs": [
    {
     "data": {
      "text/plain": [
       "seoul      200\n",
       "busan      300\n",
       "incheon    150\n",
       "daejeon     30\n",
       "dtype: int64"
      ]
     },
     "execution_count": 20,
     "metadata": {},
     "output_type": "execute_result"
    }
   ],
   "source": [
    "s2=pd.Series(s2)\n",
    "s2"
   ]
  },
  {
   "cell_type": "markdown",
   "id": "looking-injury",
   "metadata": {},
   "source": [
    "## 서로 다른 두 시리즈는 인덱스를 참조하여 연산한다"
   ]
  },
  {
   "cell_type": "code",
   "execution_count": 23,
   "id": "skilled-cocktail",
   "metadata": {},
   "outputs": [
    {
     "data": {
      "text/plain": [
       "seoul      200\n",
       "busan      100\n",
       "incheon    130\n",
       "daegu       99\n",
       "dtype: int64"
      ]
     },
     "execution_count": 23,
     "metadata": {},
     "output_type": "execute_result"
    }
   ],
   "source": [
    "s"
   ]
  },
  {
   "cell_type": "code",
   "execution_count": 24,
   "id": "psychological-gambling",
   "metadata": {},
   "outputs": [
    {
     "data": {
      "text/plain": [
       "seoul      200\n",
       "busan      300\n",
       "incheon    150\n",
       "daejeon     30\n",
       "dtype: int64"
      ]
     },
     "execution_count": 24,
     "metadata": {},
     "output_type": "execute_result"
    }
   ],
   "source": [
    "s2"
   ]
  },
  {
   "cell_type": "code",
   "execution_count": 26,
   "id": "vocal-stomach",
   "metadata": {},
   "outputs": [
    {
     "data": {
      "text/plain": [
       "busan     -200.0\n",
       "daegu        NaN\n",
       "daejeon      NaN\n",
       "incheon    -20.0\n",
       "seoul        0.0\n",
       "dtype: float64"
      ]
     },
     "execution_count": 26,
     "metadata": {},
     "output_type": "execute_result"
    }
   ],
   "source": [
    "ds=s-s2\n",
    "ds"
   ]
  },
  {
   "cell_type": "code",
   "execution_count": 27,
   "id": "further-mechanism",
   "metadata": {},
   "outputs": [
    {
     "data": {
      "text/plain": [
       "busan     -200.0\n",
       "incheon    -20.0\n",
       "seoul        0.0\n",
       "dtype: float64"
      ]
     },
     "execution_count": 27,
     "metadata": {},
     "output_type": "execute_result"
    }
   ],
   "source": [
    "ds[ds.notnull()]"
   ]
  },
  {
   "cell_type": "markdown",
   "id": "silent-hampton",
   "metadata": {},
   "source": [
    "## 시리즈 데이터의 갱신,추가,삭제"
   ]
  },
  {
   "cell_type": "code",
   "execution_count": 35,
   "id": "capable-shower",
   "metadata": {},
   "outputs": [
    {
     "data": {
      "text/plain": [
       "seoul      100\n",
       "busan       20\n",
       "incheon    130\n",
       "daegu       99\n",
       "dtype: int64"
      ]
     },
     "execution_count": 35,
     "metadata": {},
     "output_type": "execute_result"
    }
   ],
   "source": [
    "s['seoul']=100\n",
    "s['busan']=20\n",
    "s"
   ]
  },
  {
   "cell_type": "code",
   "execution_count": 36,
   "id": "moving-attention",
   "metadata": {},
   "outputs": [
    {
     "data": {
      "text/plain": [
       "seoul      100\n",
       "busan       20\n",
       "incheon    130\n",
       "daegu       99\n",
       "daejeon     70\n",
       "dtype: int64"
      ]
     },
     "execution_count": 36,
     "metadata": {},
     "output_type": "execute_result"
    }
   ],
   "source": [
    "s['daejeon']=70\n",
    "s"
   ]
  },
  {
   "cell_type": "code",
   "execution_count": 37,
   "id": "illegal-kitchen",
   "metadata": {},
   "outputs": [
    {
     "data": {
      "text/plain": [
       "seoul      100\n",
       "busan       20\n",
       "daegu       99\n",
       "daejeon     70\n",
       "dtype: int64"
      ]
     },
     "execution_count": 37,
     "metadata": {},
     "output_type": "execute_result"
    }
   ],
   "source": [
    "del s['incheon']\n",
    "s"
   ]
  }
 ],
 "metadata": {
  "kernelspec": {
   "display_name": "Python 3",
   "language": "python",
   "name": "python3"
  },
  "language_info": {
   "codemirror_mode": {
    "name": "ipython",
    "version": 3
   },
   "file_extension": ".py",
   "mimetype": "text/x-python",
   "name": "python",
   "nbconvert_exporter": "python",
   "pygments_lexer": "ipython3",
   "version": "3.7.3"
  }
 },
 "nbformat": 4,
 "nbformat_minor": 5
}
