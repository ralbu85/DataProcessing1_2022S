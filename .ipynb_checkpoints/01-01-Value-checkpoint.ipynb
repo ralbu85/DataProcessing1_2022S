{
 "cells": [
  {
   "cell_type": "markdown",
   "id": "based-segment",
   "metadata": {},
   "source": [
    "# 1. 값(Value)"
   ]
  },
  {
   "cell_type": "code",
   "execution_count": 1,
   "id": "4a7dfc71-544c-477a-8f14-757f368f8357",
   "metadata": {},
   "outputs": [],
   "source": [
    "# want to change"
   ]
  },
  {
   "cell_type": "markdown",
   "id": "refined-alarm",
   "metadata": {},
   "source": [
    "## 1-1. 값의 종류\n",
    "- 숫자\n",
    "- 문자(문자열)\n",
    "- 불리언(논리)"
   ]
  },
  {
   "cell_type": "markdown",
   "id": "competent-battery",
   "metadata": {},
   "source": [
    "## 1-2. 숫자"
   ]
  },
  {
   "cell_type": "markdown",
   "id": "quality-amino",
   "metadata": {},
   "source": [
    "- 정수형 숫자도 가능하다"
   ]
  },
  {
   "cell_type": "code",
   "execution_count": 1,
   "id": "liberal-mortgage",
   "metadata": {},
   "outputs": [
    {
     "data": {
      "text/plain": [
       "1"
      ]
     },
     "execution_count": 1,
     "metadata": {},
     "output_type": "execute_result"
    }
   ],
   "source": [
    "1"
   ]
  },
  {
   "cell_type": "markdown",
   "id": "cathedral-fraction",
   "metadata": {},
   "source": [
    "- 음수도 가능하다"
   ]
  },
  {
   "cell_type": "code",
   "execution_count": 2,
   "id": "sitting-rental",
   "metadata": {},
   "outputs": [
    {
     "data": {
      "text/plain": [
       "-2001"
      ]
     },
     "execution_count": 2,
     "metadata": {},
     "output_type": "execute_result"
    }
   ],
   "source": [
    "-2001"
   ]
  },
  {
   "cell_type": "markdown",
   "id": "connected-shade",
   "metadata": {},
   "source": [
    "- 소숫점도 가능하다"
   ]
  },
  {
   "cell_type": "code",
   "execution_count": 3,
   "id": "loose-fleece",
   "metadata": {},
   "outputs": [
    {
     "data": {
      "text/plain": [
       "11.5"
      ]
     },
     "execution_count": 3,
     "metadata": {},
     "output_type": "execute_result"
    }
   ],
   "source": [
    "11.5"
   ]
  },
  {
   "cell_type": "markdown",
   "id": "lesser-tuesday",
   "metadata": {},
   "source": [
    "## 1-2. 문자"
   ]
  },
  {
   "cell_type": "markdown",
   "id": "manual-character",
   "metadata": {},
   "source": [
    "- 숫자를 제외한 알파벳 문자를 바로 입력시 에러가 난다"
   ]
  },
  {
   "cell_type": "code",
   "execution_count": 4,
   "id": "pediatric-stake",
   "metadata": {},
   "outputs": [
    {
     "ename": "NameError",
     "evalue": "name 'x' is not defined",
     "output_type": "error",
     "traceback": [
      "\u001b[0;31m---------------------------------------------------------------------------\u001b[0m",
      "\u001b[0;31mNameError\u001b[0m                                 Traceback (most recent call last)",
      "\u001b[0;32m<ipython-input-4-6fcf9dfbd479>\u001b[0m in \u001b[0;36m<module>\u001b[0;34m\u001b[0m\n\u001b[0;32m----> 1\u001b[0;31m \u001b[0mx\u001b[0m\u001b[0;34m\u001b[0m\u001b[0;34m\u001b[0m\u001b[0m\n\u001b[0m",
      "\u001b[0;31mNameError\u001b[0m: name 'x' is not defined"
     ]
    }
   ],
   "source": [
    "x"
   ]
  },
  {
   "cell_type": "markdown",
   "id": "noticed-hypothesis",
   "metadata": {},
   "source": [
    "- 파이썬에서 문자열을 처리해주기 위해서는 따옴표로 문자를 감싸야 한다"
   ]
  },
  {
   "cell_type": "code",
   "execution_count": 6,
   "id": "mental-deposit",
   "metadata": {},
   "outputs": [
    {
     "data": {
      "text/plain": [
       "'x'"
      ]
     },
     "execution_count": 6,
     "metadata": {},
     "output_type": "execute_result"
    }
   ],
   "source": [
    "'x'"
   ]
  },
  {
   "cell_type": "markdown",
   "id": "static-defeat",
   "metadata": {},
   "source": [
    "- 문자열: 2개이상의 문자가 연달아 존재하는 경우 -> 역시 문자로 취급된다"
   ]
  },
  {
   "cell_type": "code",
   "execution_count": 5,
   "id": "facial-tiffany",
   "metadata": {},
   "outputs": [
    {
     "data": {
      "text/plain": [
       "'String'"
      ]
     },
     "execution_count": 5,
     "metadata": {},
     "output_type": "execute_result"
    }
   ],
   "source": [
    "'String'"
   ]
  },
  {
   "cell_type": "markdown",
   "id": "exceptional-diagram",
   "metadata": {},
   "source": [
    "- 공백도 문자열로 취급된다"
   ]
  },
  {
   "cell_type": "code",
   "execution_count": 7,
   "id": "adjacent-underground",
   "metadata": {},
   "outputs": [
    {
     "data": {
      "text/plain": [
       "' '"
      ]
     },
     "execution_count": 7,
     "metadata": {},
     "output_type": "execute_result"
    }
   ],
   "source": [
    "' '"
   ]
  },
  {
   "cell_type": "markdown",
   "id": "cordless-shadow",
   "metadata": {},
   "source": [
    "- 숫자도 따옴표 안에 들어가면 문자열로 취급된다"
   ]
  },
  {
   "cell_type": "code",
   "execution_count": 8,
   "id": "german-charleston",
   "metadata": {},
   "outputs": [
    {
     "data": {
      "text/plain": [
       "'11111'"
      ]
     },
     "execution_count": 8,
     "metadata": {},
     "output_type": "execute_result"
    }
   ],
   "source": [
    "'11111'"
   ]
  },
  {
   "cell_type": "markdown",
   "id": "pacific-jumping",
   "metadata": {},
   "source": [
    "- 다음처럼 여러 종류의 문자가 합쳐져서 문자열을 형성할 수 있다."
   ]
  },
  {
   "cell_type": "code",
   "execution_count": 9,
   "id": "instant-syria",
   "metadata": {},
   "outputs": [
    {
     "data": {
      "text/plain": [
       "'Hello World My name is 11111 abcde'"
      ]
     },
     "execution_count": 9,
     "metadata": {},
     "output_type": "execute_result"
    }
   ],
   "source": [
    "'Hello World My name is 11111 abcde'"
   ]
  },
  {
   "cell_type": "markdown",
   "id": "beneficial-venezuela",
   "metadata": {},
   "source": [
    "## 1-3. 불리언 값"
   ]
  },
  {
   "cell_type": "markdown",
   "id": "oriented-arrow",
   "metadata": {},
   "source": [
    "- 불리언: 참/거짓 두가지 경우만을 나타내는 특수한 값\n",
    "- 조건문과 함께 프로그램의 분기에 사용됨"
   ]
  },
  {
   "cell_type": "code",
   "execution_count": 10,
   "id": "lined-cosmetic",
   "metadata": {},
   "outputs": [
    {
     "data": {
      "text/plain": [
       "True"
      ]
     },
     "execution_count": 10,
     "metadata": {},
     "output_type": "execute_result"
    }
   ],
   "source": [
    "True"
   ]
  },
  {
   "cell_type": "code",
   "execution_count": 11,
   "id": "humanitarian-vietnamese",
   "metadata": {},
   "outputs": [
    {
     "data": {
      "text/plain": [
       "False"
      ]
     },
     "execution_count": 11,
     "metadata": {},
     "output_type": "execute_result"
    }
   ],
   "source": [
    "False"
   ]
  },
  {
   "cell_type": "code",
   "execution_count": 12,
   "id": "flexible-belief",
   "metadata": {},
   "outputs": [
    {
     "ename": "NameError",
     "evalue": "name 'true' is not defined",
     "output_type": "error",
     "traceback": [
      "\u001b[0;31m---------------------------------------------------------------------------\u001b[0m",
      "\u001b[0;31mNameError\u001b[0m                                 Traceback (most recent call last)",
      "\u001b[0;32m<ipython-input-12-724ba28f4a9a>\u001b[0m in \u001b[0;36m<module>\u001b[0;34m\u001b[0m\n\u001b[0;32m----> 1\u001b[0;31m \u001b[0mtrue\u001b[0m\u001b[0;34m\u001b[0m\u001b[0;34m\u001b[0m\u001b[0m\n\u001b[0m",
      "\u001b[0;31mNameError\u001b[0m: name 'true' is not defined"
     ]
    }
   ],
   "source": [
    "true"
   ]
  },
  {
   "cell_type": "code",
   "execution_count": 13,
   "id": "regulation-retro",
   "metadata": {},
   "outputs": [
    {
     "ename": "NameError",
     "evalue": "name 'false' is not defined",
     "output_type": "error",
     "traceback": [
      "\u001b[0;31m---------------------------------------------------------------------------\u001b[0m",
      "\u001b[0;31mNameError\u001b[0m                                 Traceback (most recent call last)",
      "\u001b[0;32m<ipython-input-13-b73d74fcede9>\u001b[0m in \u001b[0;36m<module>\u001b[0;34m\u001b[0m\n\u001b[0;32m----> 1\u001b[0;31m \u001b[0mfalse\u001b[0m\u001b[0;34m\u001b[0m\u001b[0;34m\u001b[0m\u001b[0m\n\u001b[0m",
      "\u001b[0;31mNameError\u001b[0m: name 'false' is not defined"
     ]
    }
   ],
   "source": [
    "false"
   ]
  }
 ],
 "metadata": {
  "kernelspec": {
   "display_name": "Python 3",
   "language": "python",
   "name": "python3"
  },
  "language_info": {
   "codemirror_mode": {
    "name": "ipython",
    "version": 3
   },
   "file_extension": ".py",
   "mimetype": "text/x-python",
   "name": "python",
   "nbconvert_exporter": "python",
   "pygments_lexer": "ipython3",
   "version": "3.7.3"
  }
 },
 "nbformat": 4,
 "nbformat_minor": 5
}
