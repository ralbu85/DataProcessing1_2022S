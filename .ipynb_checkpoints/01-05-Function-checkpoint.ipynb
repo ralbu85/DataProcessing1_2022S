{
 "cells": [
  {
   "cell_type": "markdown",
   "id": "loved-grade",
   "metadata": {},
   "source": [
    "# 05. 함수"
   ]
  },
  {
   "cell_type": "markdown",
   "id": "developing-specialist",
   "metadata": {},
   "source": [
    "## 05-1. 함수의 정의"
   ]
  },
  {
   "cell_type": "code",
   "execution_count": 1,
   "id": "engaging-vatican",
   "metadata": {},
   "outputs": [],
   "source": [
    "def print_twice():\n",
    "    print('Hello World')\n",
    "    print('Hello World')"
   ]
  },
  {
   "cell_type": "code",
   "execution_count": 2,
   "id": "respected-wrapping",
   "metadata": {},
   "outputs": [
    {
     "name": "stdout",
     "output_type": "stream",
     "text": [
      "Hello World\n",
      "Hello World\n"
     ]
    }
   ],
   "source": [
    "print_twice()"
   ]
  },
  {
   "cell_type": "markdown",
   "id": "british-eugene",
   "metadata": {},
   "source": [
    "## 05-2. 함수의 입력과 출력"
   ]
  },
  {
   "cell_type": "markdown",
   "id": "thermal-silly",
   "metadata": {},
   "source": [
    "- double(2) --> 4\n",
    "- double(3) --> 6"
   ]
  },
  {
   "cell_type": "markdown",
   "id": "nutritional-budget",
   "metadata": {},
   "source": [
    "- double: 함수 이름\n",
    "- (2), (4): 입력값\n",
    "- 4, 6: 출력값"
   ]
  },
  {
   "cell_type": "markdown",
   "id": "prime-emerald",
   "metadata": {},
   "source": [
    "- 함수의 입력값과 출력값은 변수로 선언한다\n",
    "- 향후 함수 이용시 변수에 입력한 값이 넘어온다"
   ]
  },
  {
   "cell_type": "code",
   "execution_count": 4,
   "id": "spoken-venue",
   "metadata": {},
   "outputs": [],
   "source": [
    "def double(x):\n",
    "    return x*2"
   ]
  },
  {
   "cell_type": "code",
   "execution_count": 5,
   "id": "metropolitan-divide",
   "metadata": {},
   "outputs": [
    {
     "data": {
      "text/plain": [
       "4"
      ]
     },
     "execution_count": 5,
     "metadata": {},
     "output_type": "execute_result"
    }
   ],
   "source": [
    "double(2)"
   ]
  },
  {
   "cell_type": "code",
   "execution_count": 6,
   "id": "separate-quarterly",
   "metadata": {},
   "outputs": [
    {
     "data": {
      "text/plain": [
       "20"
      ]
     },
     "execution_count": 6,
     "metadata": {},
     "output_type": "execute_result"
    }
   ],
   "source": [
    "double(10)"
   ]
  },
  {
   "cell_type": "code",
   "execution_count": 7,
   "id": "british-greece",
   "metadata": {},
   "outputs": [
    {
     "data": {
      "text/plain": [
       "40"
      ]
     },
     "execution_count": 7,
     "metadata": {},
     "output_type": "execute_result"
    }
   ],
   "source": [
    "double(20)"
   ]
  },
  {
   "cell_type": "code",
   "execution_count": 8,
   "id": "determined-thriller",
   "metadata": {},
   "outputs": [
    {
     "name": "stdout",
     "output_type": "stream",
     "text": [
      "60\n"
     ]
    }
   ],
   "source": [
    "y = double(30)\n",
    "print(y)"
   ]
  },
  {
   "cell_type": "code",
   "execution_count": 9,
   "id": "governing-ensemble",
   "metadata": {},
   "outputs": [
    {
     "name": "stdout",
     "output_type": "stream",
     "text": [
      "20\n"
     ]
    }
   ],
   "source": [
    "x=10\n",
    "y=double(x)\n",
    "print(y)"
   ]
  },
  {
   "cell_type": "markdown",
   "id": "august-making",
   "metadata": {},
   "source": [
    "## 05-3. 입력값이 여러개인 함수"
   ]
  },
  {
   "cell_type": "markdown",
   "id": "straight-shoot",
   "metadata": {},
   "source": [
    "- jegop(2,3) --> 8\n",
    "- jegop(3,4) --> 81"
   ]
  },
  {
   "cell_type": "code",
   "execution_count": 11,
   "id": "incident-suspect",
   "metadata": {},
   "outputs": [
    {
     "data": {
      "text/plain": [
       "8"
      ]
     },
     "execution_count": 11,
     "metadata": {},
     "output_type": "execute_result"
    }
   ],
   "source": [
    "def jegop(x,y):\n",
    "    return x**y\n",
    "\n",
    "jegop(2,3) "
   ]
  },
  {
   "cell_type": "code",
   "execution_count": 12,
   "id": "vulnerable-russell",
   "metadata": {},
   "outputs": [
    {
     "data": {
      "text/plain": [
       "81"
      ]
     },
     "execution_count": 12,
     "metadata": {},
     "output_type": "execute_result"
    }
   ],
   "source": [
    "jegop(3,4)"
   ]
  },
  {
   "cell_type": "markdown",
   "id": "chicken-target",
   "metadata": {},
   "source": [
    "## 05-4. 지역변수"
   ]
  },
  {
   "cell_type": "markdown",
   "id": "ancient-syntax",
   "metadata": {},
   "source": [
    "- 함수에 사용되는 변수들은 함수 안에서만 의미있다.\n",
    "- 즉, 함수 밖에서 사용할 수 없다."
   ]
  },
  {
   "cell_type": "code",
   "execution_count": 23,
   "id": "conventional-translation",
   "metadata": {},
   "outputs": [],
   "source": [
    "def tenTimes(x):\n",
    "    result = x*10\n",
    "    return result"
   ]
  },
  {
   "cell_type": "code",
   "execution_count": 24,
   "id": "handed-homework",
   "metadata": {},
   "outputs": [
    {
     "ename": "NameError",
     "evalue": "name 'result' is not defined",
     "output_type": "error",
     "traceback": [
      "\u001b[0;31m---------------------------------------------------------------------------\u001b[0m",
      "\u001b[0;31mNameError\u001b[0m                                 Traceback (most recent call last)",
      "\u001b[0;32m<ipython-input-24-0ac921c19f1a>\u001b[0m in \u001b[0;36m<module>\u001b[0;34m\u001b[0m\n\u001b[0;32m----> 1\u001b[0;31m \u001b[0mresult\u001b[0m\u001b[0;34m\u001b[0m\u001b[0;34m\u001b[0m\u001b[0m\n\u001b[0m",
      "\u001b[0;31mNameError\u001b[0m: name 'result' is not defined"
     ]
    }
   ],
   "source": [
    "result"
   ]
  },
  {
   "cell_type": "code",
   "execution_count": 25,
   "id": "signed-report",
   "metadata": {},
   "outputs": [
    {
     "data": {
      "text/plain": [
       "20"
      ]
     },
     "execution_count": 25,
     "metadata": {},
     "output_type": "execute_result"
    }
   ],
   "source": [
    "result=10\n",
    "tenTimes(2)"
   ]
  },
  {
   "cell_type": "code",
   "execution_count": 28,
   "id": "medium-continuity",
   "metadata": {},
   "outputs": [
    {
     "data": {
      "text/plain": [
       "10"
      ]
     },
     "execution_count": 28,
     "metadata": {},
     "output_type": "execute_result"
    }
   ],
   "source": [
    "result"
   ]
  },
  {
   "cell_type": "markdown",
   "id": "related-joining",
   "metadata": {},
   "source": [
    "- 함수안의 result값은 함수 안에서만 유효하다, 즉 함수 밖의 result와 함수 안의 result는 다르다."
   ]
  }
 ],
 "metadata": {
  "kernelspec": {
   "display_name": "Python 3 (ipykernel)",
   "language": "python",
   "name": "python3"
  },
  "language_info": {
   "codemirror_mode": {
    "name": "ipython",
    "version": 3
   },
   "file_extension": ".py",
   "mimetype": "text/x-python",
   "name": "python",
   "nbconvert_exporter": "python",
   "pygments_lexer": "ipython3",
   "version": "3.8.10"
  }
 },
 "nbformat": 4,
 "nbformat_minor": 5
}
