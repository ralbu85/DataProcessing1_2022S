{
 "cells": [
  {
   "cell_type": "markdown",
   "id": "automotive-things",
   "metadata": {},
   "source": [
    "## 인덱스를 공유하는 다수의 시리즈"
   ]
  },
  {
   "cell_type": "code",
   "execution_count": 1,
   "id": "exact-discharge",
   "metadata": {},
   "outputs": [],
   "source": [
    "import pandas as pd"
   ]
  },
  {
   "cell_type": "code",
   "execution_count": 3,
   "id": "unexpected-version",
   "metadata": {},
   "outputs": [],
   "source": [
    "s1 = {'서울':100,'부산':80,'대구':50,'인천':90}\n",
    "s2 = {'서울':120,'부산':70,'대구':45,'인천':95}\n",
    "s3 = {'서울':140,'부산':60,'대구':35,'인천':100}"
   ]
  },
  {
   "cell_type": "code",
   "execution_count": 4,
   "id": "bridal-resort",
   "metadata": {},
   "outputs": [],
   "source": [
    "s1 = pd.Series(s1)\n",
    "s2 = pd.Series(s2)\n",
    "s3 = pd.Series(s3)"
   ]
  },
  {
   "cell_type": "markdown",
   "id": "fatty-america",
   "metadata": {},
   "source": [
    "## 데이터프레임: 인덱스를 공유하는 다수의 시리즈"
   ]
  },
  {
   "cell_type": "code",
   "execution_count": 5,
   "id": "polished-eugene",
   "metadata": {},
   "outputs": [
    {
     "data": {
      "text/html": [
       "<div>\n",
       "<style scoped>\n",
       "    .dataframe tbody tr th:only-of-type {\n",
       "        vertical-align: middle;\n",
       "    }\n",
       "\n",
       "    .dataframe tbody tr th {\n",
       "        vertical-align: top;\n",
       "    }\n",
       "\n",
       "    .dataframe thead th {\n",
       "        text-align: right;\n",
       "    }\n",
       "</style>\n",
       "<table border=\"1\" class=\"dataframe\">\n",
       "  <thead>\n",
       "    <tr style=\"text-align: right;\">\n",
       "      <th></th>\n",
       "      <th>서울</th>\n",
       "      <th>부산</th>\n",
       "      <th>대구</th>\n",
       "      <th>인천</th>\n",
       "    </tr>\n",
       "  </thead>\n",
       "  <tbody>\n",
       "    <tr>\n",
       "      <th>0</th>\n",
       "      <td>100</td>\n",
       "      <td>80</td>\n",
       "      <td>50</td>\n",
       "      <td>90</td>\n",
       "    </tr>\n",
       "    <tr>\n",
       "      <th>1</th>\n",
       "      <td>120</td>\n",
       "      <td>70</td>\n",
       "      <td>45</td>\n",
       "      <td>95</td>\n",
       "    </tr>\n",
       "    <tr>\n",
       "      <th>2</th>\n",
       "      <td>140</td>\n",
       "      <td>60</td>\n",
       "      <td>35</td>\n",
       "      <td>100</td>\n",
       "    </tr>\n",
       "  </tbody>\n",
       "</table>\n",
       "</div>"
      ],
      "text/plain": [
       "    서울  부산  대구   인천\n",
       "0  100  80  50   90\n",
       "1  120  70  45   95\n",
       "2  140  60  35  100"
      ]
     },
     "execution_count": 5,
     "metadata": {},
     "output_type": "execute_result"
    }
   ],
   "source": [
    "pd.DataFrame([s1,s2,s3])"
   ]
  },
  {
   "cell_type": "code",
   "execution_count": 6,
   "id": "alternative-emperor",
   "metadata": {},
   "outputs": [
    {
     "data": {
      "text/html": [
       "<div>\n",
       "<style scoped>\n",
       "    .dataframe tbody tr th:only-of-type {\n",
       "        vertical-align: middle;\n",
       "    }\n",
       "\n",
       "    .dataframe tbody tr th {\n",
       "        vertical-align: top;\n",
       "    }\n",
       "\n",
       "    .dataframe thead th {\n",
       "        text-align: right;\n",
       "    }\n",
       "</style>\n",
       "<table border=\"1\" class=\"dataframe\">\n",
       "  <thead>\n",
       "    <tr style=\"text-align: right;\">\n",
       "      <th></th>\n",
       "      <th>서울</th>\n",
       "      <th>부산</th>\n",
       "      <th>대구</th>\n",
       "      <th>인천</th>\n",
       "    </tr>\n",
       "  </thead>\n",
       "  <tbody>\n",
       "    <tr>\n",
       "      <th>2010</th>\n",
       "      <td>100</td>\n",
       "      <td>80</td>\n",
       "      <td>50</td>\n",
       "      <td>90</td>\n",
       "    </tr>\n",
       "    <tr>\n",
       "      <th>2020</th>\n",
       "      <td>120</td>\n",
       "      <td>70</td>\n",
       "      <td>45</td>\n",
       "      <td>95</td>\n",
       "    </tr>\n",
       "    <tr>\n",
       "      <th>2030</th>\n",
       "      <td>140</td>\n",
       "      <td>60</td>\n",
       "      <td>35</td>\n",
       "      <td>100</td>\n",
       "    </tr>\n",
       "  </tbody>\n",
       "</table>\n",
       "</div>"
      ],
      "text/plain": [
       "       서울  부산  대구   인천\n",
       "2010  100  80  50   90\n",
       "2020  120  70  45   95\n",
       "2030  140  60  35  100"
      ]
     },
     "execution_count": 6,
     "metadata": {},
     "output_type": "execute_result"
    }
   ],
   "source": [
    "pd.DataFrame([s1,s2,s3],index=[2010,2020,2030])"
   ]
  },
  {
   "cell_type": "code",
   "execution_count": 8,
   "id": "structural-drinking",
   "metadata": {},
   "outputs": [
    {
     "data": {
      "text/html": [
       "<div>\n",
       "<style scoped>\n",
       "    .dataframe tbody tr th:only-of-type {\n",
       "        vertical-align: middle;\n",
       "    }\n",
       "\n",
       "    .dataframe tbody tr th {\n",
       "        vertical-align: top;\n",
       "    }\n",
       "\n",
       "    .dataframe thead th {\n",
       "        text-align: right;\n",
       "    }\n",
       "</style>\n",
       "<table border=\"1\" class=\"dataframe\">\n",
       "  <thead>\n",
       "    <tr style=\"text-align: right;\">\n",
       "      <th></th>\n",
       "      <th>서울</th>\n",
       "      <th>부산</th>\n",
       "      <th>대구</th>\n",
       "      <th>인천</th>\n",
       "    </tr>\n",
       "  </thead>\n",
       "  <tbody>\n",
       "    <tr>\n",
       "      <th>2010</th>\n",
       "      <td>100</td>\n",
       "      <td>80</td>\n",
       "      <td>50</td>\n",
       "      <td>90</td>\n",
       "    </tr>\n",
       "    <tr>\n",
       "      <th>2020</th>\n",
       "      <td>120</td>\n",
       "      <td>70</td>\n",
       "      <td>45</td>\n",
       "      <td>95</td>\n",
       "    </tr>\n",
       "    <tr>\n",
       "      <th>2030</th>\n",
       "      <td>140</td>\n",
       "      <td>60</td>\n",
       "      <td>35</td>\n",
       "      <td>100</td>\n",
       "    </tr>\n",
       "  </tbody>\n",
       "</table>\n",
       "</div>"
      ],
      "text/plain": [
       "       서울  부산  대구   인천\n",
       "2010  100  80  50   90\n",
       "2020  120  70  45   95\n",
       "2030  140  60  35  100"
      ]
     },
     "execution_count": 8,
     "metadata": {},
     "output_type": "execute_result"
    }
   ],
   "source": [
    "df=pd.DataFrame([s1,s2,s3],index=[2010,2020,2030])\n",
    "df"
   ]
  },
  {
   "cell_type": "markdown",
   "id": "elder-closer",
   "metadata": {},
   "source": [
    "## 데이터프레임 명칭: 칼럼, 인덱스"
   ]
  },
  {
   "cell_type": "code",
   "execution_count": 9,
   "id": "acting-wisdom",
   "metadata": {},
   "outputs": [
    {
     "data": {
      "text/plain": [
       "Index(['서울', '부산', '대구', '인천'], dtype='object')"
      ]
     },
     "execution_count": 9,
     "metadata": {},
     "output_type": "execute_result"
    }
   ],
   "source": [
    "df.columns"
   ]
  },
  {
   "cell_type": "code",
   "execution_count": 10,
   "id": "amateur-subscriber",
   "metadata": {},
   "outputs": [
    {
     "data": {
      "text/plain": [
       "Int64Index([2010, 2020, 2030], dtype='int64')"
      ]
     },
     "execution_count": 10,
     "metadata": {},
     "output_type": "execute_result"
    }
   ],
   "source": [
    "df.index"
   ]
  },
  {
   "cell_type": "code",
   "execution_count": 11,
   "id": "entire-priest",
   "metadata": {},
   "outputs": [
    {
     "data": {
      "text/plain": [
       "array([[100,  80,  50,  90],\n",
       "       [120,  70,  45,  95],\n",
       "       [140,  60,  35, 100]])"
      ]
     },
     "execution_count": 11,
     "metadata": {},
     "output_type": "execute_result"
    }
   ],
   "source": [
    "df.values"
   ]
  },
  {
   "cell_type": "markdown",
   "id": "stupid-canyon",
   "metadata": {},
   "source": [
    "## 데이터프레임 열 선택하기"
   ]
  },
  {
   "cell_type": "code",
   "execution_count": 13,
   "id": "retained-september",
   "metadata": {},
   "outputs": [
    {
     "data": {
      "text/plain": [
       "2010    100\n",
       "2020    120\n",
       "2030    140\n",
       "Name: 서울, dtype: int64"
      ]
     },
     "execution_count": 13,
     "metadata": {},
     "output_type": "execute_result"
    }
   ],
   "source": [
    "df['서울']"
   ]
  },
  {
   "cell_type": "code",
   "execution_count": 14,
   "id": "convertible-jefferson",
   "metadata": {},
   "outputs": [
    {
     "data": {
      "text/html": [
       "<div>\n",
       "<style scoped>\n",
       "    .dataframe tbody tr th:only-of-type {\n",
       "        vertical-align: middle;\n",
       "    }\n",
       "\n",
       "    .dataframe tbody tr th {\n",
       "        vertical-align: top;\n",
       "    }\n",
       "\n",
       "    .dataframe thead th {\n",
       "        text-align: right;\n",
       "    }\n",
       "</style>\n",
       "<table border=\"1\" class=\"dataframe\">\n",
       "  <thead>\n",
       "    <tr style=\"text-align: right;\">\n",
       "      <th></th>\n",
       "      <th>서울</th>\n",
       "      <th>부산</th>\n",
       "    </tr>\n",
       "  </thead>\n",
       "  <tbody>\n",
       "    <tr>\n",
       "      <th>2010</th>\n",
       "      <td>100</td>\n",
       "      <td>80</td>\n",
       "    </tr>\n",
       "    <tr>\n",
       "      <th>2020</th>\n",
       "      <td>120</td>\n",
       "      <td>70</td>\n",
       "    </tr>\n",
       "    <tr>\n",
       "      <th>2030</th>\n",
       "      <td>140</td>\n",
       "      <td>60</td>\n",
       "    </tr>\n",
       "  </tbody>\n",
       "</table>\n",
       "</div>"
      ],
      "text/plain": [
       "       서울  부산\n",
       "2010  100  80\n",
       "2020  120  70\n",
       "2030  140  60"
      ]
     },
     "execution_count": 14,
     "metadata": {},
     "output_type": "execute_result"
    }
   ],
   "source": [
    "df[['서울','부산']]"
   ]
  },
  {
   "cell_type": "markdown",
   "id": "aerial-cycle",
   "metadata": {},
   "source": [
    "## 데이터프레임 행 선택하기"
   ]
  },
  {
   "cell_type": "code",
   "execution_count": 18,
   "id": "driven-option",
   "metadata": {},
   "outputs": [
    {
     "data": {
      "text/plain": [
       "서울    100\n",
       "부산     80\n",
       "대구     50\n",
       "인천     90\n",
       "Name: 2010, dtype: int64"
      ]
     },
     "execution_count": 18,
     "metadata": {},
     "output_type": "execute_result"
    }
   ],
   "source": [
    "df.loc[2010]"
   ]
  },
  {
   "cell_type": "code",
   "execution_count": 19,
   "id": "adult-candy",
   "metadata": {},
   "outputs": [
    {
     "data": {
      "text/html": [
       "<div>\n",
       "<style scoped>\n",
       "    .dataframe tbody tr th:only-of-type {\n",
       "        vertical-align: middle;\n",
       "    }\n",
       "\n",
       "    .dataframe tbody tr th {\n",
       "        vertical-align: top;\n",
       "    }\n",
       "\n",
       "    .dataframe thead th {\n",
       "        text-align: right;\n",
       "    }\n",
       "</style>\n",
       "<table border=\"1\" class=\"dataframe\">\n",
       "  <thead>\n",
       "    <tr style=\"text-align: right;\">\n",
       "      <th></th>\n",
       "      <th>서울</th>\n",
       "      <th>부산</th>\n",
       "      <th>대구</th>\n",
       "      <th>인천</th>\n",
       "    </tr>\n",
       "  </thead>\n",
       "  <tbody>\n",
       "    <tr>\n",
       "      <th>2010</th>\n",
       "      <td>100</td>\n",
       "      <td>80</td>\n",
       "      <td>50</td>\n",
       "      <td>90</td>\n",
       "    </tr>\n",
       "    <tr>\n",
       "      <th>2030</th>\n",
       "      <td>140</td>\n",
       "      <td>60</td>\n",
       "      <td>35</td>\n",
       "      <td>100</td>\n",
       "    </tr>\n",
       "  </tbody>\n",
       "</table>\n",
       "</div>"
      ],
      "text/plain": [
       "       서울  부산  대구   인천\n",
       "2010  100  80  50   90\n",
       "2030  140  60  35  100"
      ]
     },
     "execution_count": 19,
     "metadata": {},
     "output_type": "execute_result"
    }
   ],
   "source": [
    "df.loc[[2010,2030]]"
   ]
  },
  {
   "cell_type": "code",
   "execution_count": 20,
   "id": "unlimited-shell",
   "metadata": {},
   "outputs": [
    {
     "data": {
      "text/plain": [
       "서울    100\n",
       "부산     80\n",
       "대구     50\n",
       "인천     90\n",
       "Name: 2010, dtype: int64"
      ]
     },
     "execution_count": 20,
     "metadata": {},
     "output_type": "execute_result"
    }
   ],
   "source": [
    "df.iloc[0]"
   ]
  },
  {
   "cell_type": "code",
   "execution_count": 22,
   "id": "framed-conducting",
   "metadata": {},
   "outputs": [
    {
     "data": {
      "text/html": [
       "<div>\n",
       "<style scoped>\n",
       "    .dataframe tbody tr th:only-of-type {\n",
       "        vertical-align: middle;\n",
       "    }\n",
       "\n",
       "    .dataframe tbody tr th {\n",
       "        vertical-align: top;\n",
       "    }\n",
       "\n",
       "    .dataframe thead th {\n",
       "        text-align: right;\n",
       "    }\n",
       "</style>\n",
       "<table border=\"1\" class=\"dataframe\">\n",
       "  <thead>\n",
       "    <tr style=\"text-align: right;\">\n",
       "      <th></th>\n",
       "      <th>서울</th>\n",
       "      <th>부산</th>\n",
       "      <th>대구</th>\n",
       "      <th>인천</th>\n",
       "    </tr>\n",
       "  </thead>\n",
       "  <tbody>\n",
       "    <tr>\n",
       "      <th>2010</th>\n",
       "      <td>100</td>\n",
       "      <td>80</td>\n",
       "      <td>50</td>\n",
       "      <td>90</td>\n",
       "    </tr>\n",
       "    <tr>\n",
       "      <th>2030</th>\n",
       "      <td>140</td>\n",
       "      <td>60</td>\n",
       "      <td>35</td>\n",
       "      <td>100</td>\n",
       "    </tr>\n",
       "  </tbody>\n",
       "</table>\n",
       "</div>"
      ],
      "text/plain": [
       "       서울  부산  대구   인천\n",
       "2010  100  80  50   90\n",
       "2030  140  60  35  100"
      ]
     },
     "execution_count": 22,
     "metadata": {},
     "output_type": "execute_result"
    }
   ],
   "source": [
    "df.iloc[[0,2]]"
   ]
  },
  {
   "cell_type": "markdown",
   "id": "korean-injury",
   "metadata": {},
   "source": [
    "## 열과 행을 혼합한 선택"
   ]
  },
  {
   "cell_type": "code",
   "execution_count": 23,
   "id": "graphic-retreat",
   "metadata": {},
   "outputs": [
    {
     "data": {
      "text/plain": [
       "2010    100\n",
       "2020    120\n",
       "2030    140\n",
       "Name: 서울, dtype: int64"
      ]
     },
     "execution_count": 23,
     "metadata": {},
     "output_type": "execute_result"
    }
   ],
   "source": [
    "df['서울']"
   ]
  },
  {
   "cell_type": "code",
   "execution_count": 24,
   "id": "understood-stanley",
   "metadata": {},
   "outputs": [
    {
     "data": {
      "text/plain": [
       "100"
      ]
     },
     "execution_count": 24,
     "metadata": {},
     "output_type": "execute_result"
    }
   ],
   "source": [
    "df['서울'].loc[2010]"
   ]
  },
  {
   "cell_type": "code",
   "execution_count": 34,
   "id": "future-river",
   "metadata": {},
   "outputs": [
    {
     "data": {
      "text/plain": [
       "100"
      ]
     },
     "execution_count": 34,
     "metadata": {},
     "output_type": "execute_result"
    }
   ],
   "source": [
    "#df['서울'][2010]\n",
    "df['서울'].loc[2010]"
   ]
  },
  {
   "cell_type": "code",
   "execution_count": 35,
   "id": "blank-publicity",
   "metadata": {},
   "outputs": [
    {
     "data": {
      "text/plain": [
       "2010    80\n",
       "2020    70\n",
       "Name: 부산, dtype: int64"
      ]
     },
     "execution_count": 35,
     "metadata": {},
     "output_type": "execute_result"
    }
   ],
   "source": [
    "#df['부산'][[2010,2020]]\n",
    "df['부산'].loc[[2010,2020]]"
   ]
  },
  {
   "cell_type": "code",
   "execution_count": 33,
   "id": "wound-stocks",
   "metadata": {},
   "outputs": [
    {
     "data": {
      "text/html": [
       "<div>\n",
       "<style scoped>\n",
       "    .dataframe tbody tr th:only-of-type {\n",
       "        vertical-align: middle;\n",
       "    }\n",
       "\n",
       "    .dataframe tbody tr th {\n",
       "        vertical-align: top;\n",
       "    }\n",
       "\n",
       "    .dataframe thead th {\n",
       "        text-align: right;\n",
       "    }\n",
       "</style>\n",
       "<table border=\"1\" class=\"dataframe\">\n",
       "  <thead>\n",
       "    <tr style=\"text-align: right;\">\n",
       "      <th></th>\n",
       "      <th>부산</th>\n",
       "      <th>대구</th>\n",
       "    </tr>\n",
       "  </thead>\n",
       "  <tbody>\n",
       "    <tr>\n",
       "      <th>2010</th>\n",
       "      <td>80</td>\n",
       "      <td>50</td>\n",
       "    </tr>\n",
       "    <tr>\n",
       "      <th>2020</th>\n",
       "      <td>70</td>\n",
       "      <td>45</td>\n",
       "    </tr>\n",
       "  </tbody>\n",
       "</table>\n",
       "</div>"
      ],
      "text/plain": [
       "      부산  대구\n",
       "2010  80  50\n",
       "2020  70  45"
      ]
     },
     "execution_count": 33,
     "metadata": {},
     "output_type": "execute_result"
    }
   ],
   "source": [
    "df[['부산','대구']].loc[[2010,2020]]"
   ]
  },
  {
   "cell_type": "markdown",
   "id": "beneficial-fleece",
   "metadata": {},
   "source": [
    "## 연습문제"
   ]
  },
  {
   "cell_type": "code",
   "execution_count": 38,
   "id": "greek-basic",
   "metadata": {},
   "outputs": [],
   "source": [
    "s1 = pd.Series({'국어':80,'영어':90,'수학':90})\n",
    "s2 = pd.Series({'국어':90,'영어':70,'수학':60})\n",
    "s3 = pd.Series({'국어':70,'영어':60,'수학':80})\n",
    "s4 = pd.Series({'국어':30,'영어':40,'수학':70})\n",
    "df=pd.DataFrame([s1,s2,s3,s4],index=['춘향','몽룡','향단','방자'])"
   ]
  },
  {
   "attachments": {
    "541445cc-eff9-4a52-83b7-39e360022b74.png": {
     "image/png": "[encoded data removed]"
    }
   },
   "cell_type": "markdown",
   "id": "hollywood-mother",
   "metadata": {},
   "source": [
    "![image.png](attachment:541445cc-eff9-4a52-83b7-39e360022b74.png)"
   ]
  },
  {
   "cell_type": "markdown",
   "id": "concrete-wales",
   "metadata": {},
   "source": [
    "## 데이터프레임의 연산"
   ]
  },
  {
   "cell_type": "code",
   "execution_count": 40,
   "id": "stuffed-peter",
   "metadata": {},
   "outputs": [
    {
     "data": {
      "text/plain": [
       "춘향    70\n",
       "몽룡    80\n",
       "향단    60\n",
       "방자    20\n",
       "Name: 국어, dtype: int64"
      ]
     },
     "execution_count": 40,
     "metadata": {},
     "output_type": "execute_result"
    }
   ],
   "source": [
    "df['국어']-10"
   ]
  },
  {
   "cell_type": "code",
   "execution_count": 43,
   "id": "innocent-dutch",
   "metadata": {},
   "outputs": [
    {
     "data": {
      "text/plain": [
       "춘향    160\n",
       "몽룡    180\n",
       "향단    140\n",
       "방자     60\n",
       "Name: 국어, dtype: int64"
      ]
     },
     "execution_count": 43,
     "metadata": {},
     "output_type": "execute_result"
    }
   ],
   "source": [
    "df['국어']*2"
   ]
  },
  {
   "cell_type": "code",
   "execution_count": 44,
   "id": "organizational-service",
   "metadata": {},
   "outputs": [
    {
     "data": {
      "text/plain": [
       "춘향    70\n",
       "몽룡    80\n",
       "향단    60\n",
       "방자    20\n",
       "Name: 국어, dtype: int64"
      ]
     },
     "execution_count": 44,
     "metadata": {},
     "output_type": "execute_result"
    }
   ],
   "source": [
    "df['국어']-10"
   ]
  },
  {
   "cell_type": "code",
   "execution_count": 45,
   "id": "supposed-search",
   "metadata": {},
   "outputs": [
    {
     "data": {
      "text/plain": [
       "춘향    45.0\n",
       "몽룡    30.0\n",
       "향단    40.0\n",
       "방자    35.0\n",
       "Name: 수학, dtype: float64"
      ]
     },
     "execution_count": 45,
     "metadata": {},
     "output_type": "execute_result"
    }
   ],
   "source": [
    "df['수학']/2"
   ]
  },
  {
   "cell_type": "markdown",
   "id": "middle-share",
   "metadata": {},
   "source": [
    "## 칼럼간연산"
   ]
  },
  {
   "cell_type": "code",
   "execution_count": 47,
   "id": "invisible-shadow",
   "metadata": {},
   "outputs": [
    {
     "data": {
      "text/plain": [
       "춘향    170\n",
       "몽룡    150\n",
       "향단    150\n",
       "방자    100\n",
       "dtype: int64"
      ]
     },
     "execution_count": 47,
     "metadata": {},
     "output_type": "execute_result"
    }
   ],
   "source": [
    "df['국어']+df['수학']"
   ]
  },
  {
   "cell_type": "code",
   "execution_count": 48,
   "id": "exterior-flood",
   "metadata": {},
   "outputs": [
    {
     "data": {
      "text/plain": [
       "춘향    85.0\n",
       "몽룡    75.0\n",
       "향단    75.0\n",
       "방자    50.0\n",
       "dtype: float64"
      ]
     },
     "execution_count": 48,
     "metadata": {},
     "output_type": "execute_result"
    }
   ],
   "source": [
    "df['국어']+df['수학']"
   ]
  },
  {
   "cell_type": "code",
   "execution_count": 49,
   "id": "dominant-focus",
   "metadata": {},
   "outputs": [
    {
     "data": {
      "text/plain": [
       "춘향    86.666667\n",
       "몽룡    73.333333\n",
       "향단    70.000000\n",
       "방자    46.666667\n",
       "dtype: float64"
      ]
     },
     "execution_count": 49,
     "metadata": {},
     "output_type": "execute_result"
    }
   ],
   "source": [
    "(df['국어']+df['수학']+df['영어'])/3"
   ]
  },
  {
   "cell_type": "markdown",
   "id": "operating-assistant",
   "metadata": {},
   "source": [
    "## 조건에 맞는 데이터 추려내기"
   ]
  },
  {
   "cell_type": "code",
   "execution_count": 53,
   "id": "qualified-motel",
   "metadata": {},
   "outputs": [
    {
     "data": {
      "text/plain": [
       "춘향     True\n",
       "몽룡     True\n",
       "향단     True\n",
       "방자    False\n",
       "Name: 국어, dtype: bool"
      ]
     },
     "execution_count": 53,
     "metadata": {},
     "output_type": "execute_result"
    }
   ],
   "source": [
    "df['국어']>50"
   ]
  },
  {
   "cell_type": "code",
   "execution_count": 54,
   "id": "directed-prospect",
   "metadata": {},
   "outputs": [
    {
     "data": {
      "text/html": [
       "<div>\n",
       "<style scoped>\n",
       "    .dataframe tbody tr th:only-of-type {\n",
       "        vertical-align: middle;\n",
       "    }\n",
       "\n",
       "    .dataframe tbody tr th {\n",
       "        vertical-align: top;\n",
       "    }\n",
       "\n",
       "    .dataframe thead th {\n",
       "        text-align: right;\n",
       "    }\n",
       "</style>\n",
       "<table border=\"1\" class=\"dataframe\">\n",
       "  <thead>\n",
       "    <tr style=\"text-align: right;\">\n",
       "      <th></th>\n",
       "      <th>국어</th>\n",
       "      <th>영어</th>\n",
       "      <th>수학</th>\n",
       "    </tr>\n",
       "  </thead>\n",
       "  <tbody>\n",
       "    <tr>\n",
       "      <th>춘향</th>\n",
       "      <td>80</td>\n",
       "      <td>90</td>\n",
       "      <td>90</td>\n",
       "    </tr>\n",
       "    <tr>\n",
       "      <th>몽룡</th>\n",
       "      <td>90</td>\n",
       "      <td>70</td>\n",
       "      <td>60</td>\n",
       "    </tr>\n",
       "    <tr>\n",
       "      <th>향단</th>\n",
       "      <td>70</td>\n",
       "      <td>60</td>\n",
       "      <td>80</td>\n",
       "    </tr>\n",
       "  </tbody>\n",
       "</table>\n",
       "</div>"
      ],
      "text/plain": [
       "    국어  영어  수학\n",
       "춘향  80  90  90\n",
       "몽룡  90  70  60\n",
       "향단  70  60  80"
      ]
     },
     "execution_count": 54,
     "metadata": {},
     "output_type": "execute_result"
    }
   ],
   "source": [
    "df[df['국어']>50]"
   ]
  },
  {
   "cell_type": "code",
   "execution_count": 55,
   "id": "loving-grace",
   "metadata": {},
   "outputs": [
    {
     "data": {
      "text/plain": [
       "춘향    False\n",
       "몽룡     True\n",
       "향단    False\n",
       "방자    False\n",
       "Name: 영어, dtype: bool"
      ]
     },
     "execution_count": 55,
     "metadata": {},
     "output_type": "execute_result"
    }
   ],
   "source": [
    "df['영어']==70"
   ]
  },
  {
   "cell_type": "code",
   "execution_count": 56,
   "id": "decreased-county",
   "metadata": {},
   "outputs": [
    {
     "data": {
      "text/html": [
       "<div>\n",
       "<style scoped>\n",
       "    .dataframe tbody tr th:only-of-type {\n",
       "        vertical-align: middle;\n",
       "    }\n",
       "\n",
       "    .dataframe tbody tr th {\n",
       "        vertical-align: top;\n",
       "    }\n",
       "\n",
       "    .dataframe thead th {\n",
       "        text-align: right;\n",
       "    }\n",
       "</style>\n",
       "<table border=\"1\" class=\"dataframe\">\n",
       "  <thead>\n",
       "    <tr style=\"text-align: right;\">\n",
       "      <th></th>\n",
       "      <th>국어</th>\n",
       "      <th>영어</th>\n",
       "      <th>수학</th>\n",
       "    </tr>\n",
       "  </thead>\n",
       "  <tbody>\n",
       "    <tr>\n",
       "      <th>몽룡</th>\n",
       "      <td>90</td>\n",
       "      <td>70</td>\n",
       "      <td>60</td>\n",
       "    </tr>\n",
       "  </tbody>\n",
       "</table>\n",
       "</div>"
      ],
      "text/plain": [
       "    국어  영어  수학\n",
       "몽룡  90  70  60"
      ]
     },
     "execution_count": 56,
     "metadata": {},
     "output_type": "execute_result"
    }
   ],
   "source": [
    "df[df['영어']==70]"
   ]
  },
  {
   "cell_type": "code",
   "execution_count": 57,
   "id": "clinical-olympus",
   "metadata": {},
   "outputs": [
    {
     "data": {
      "text/html": [
       "<div>\n",
       "<style scoped>\n",
       "    .dataframe tbody tr th:only-of-type {\n",
       "        vertical-align: middle;\n",
       "    }\n",
       "\n",
       "    .dataframe tbody tr th {\n",
       "        vertical-align: top;\n",
       "    }\n",
       "\n",
       "    .dataframe thead th {\n",
       "        text-align: right;\n",
       "    }\n",
       "</style>\n",
       "<table border=\"1\" class=\"dataframe\">\n",
       "  <thead>\n",
       "    <tr style=\"text-align: right;\">\n",
       "      <th></th>\n",
       "      <th>국어</th>\n",
       "      <th>영어</th>\n",
       "      <th>수학</th>\n",
       "    </tr>\n",
       "  </thead>\n",
       "  <tbody>\n",
       "    <tr>\n",
       "      <th>춘향</th>\n",
       "      <td>80</td>\n",
       "      <td>90</td>\n",
       "      <td>90</td>\n",
       "    </tr>\n",
       "  </tbody>\n",
       "</table>\n",
       "</div>"
      ],
      "text/plain": [
       "    국어  영어  수학\n",
       "춘향  80  90  90"
      ]
     },
     "execution_count": 57,
     "metadata": {},
     "output_type": "execute_result"
    }
   ],
   "source": [
    "df[(df['국어']>50)&(df['영어']>80)]"
   ]
  },
  {
   "cell_type": "markdown",
   "id": "frequent-nothing",
   "metadata": {},
   "source": [
    "## 연산 결과를 새로운 열에 추가하기"
   ]
  },
  {
   "cell_type": "code",
   "execution_count": 58,
   "id": "amended-dutch",
   "metadata": {},
   "outputs": [
    {
     "data": {
      "text/plain": [
       "춘향    86.666667\n",
       "몽룡    73.333333\n",
       "향단    70.000000\n",
       "방자    46.666667\n",
       "dtype: float64"
      ]
     },
     "execution_count": 58,
     "metadata": {},
     "output_type": "execute_result"
    }
   ],
   "source": [
    "(df['국어']+df['수학']+df['영어'])/3"
   ]
  },
  {
   "cell_type": "code",
   "execution_count": 59,
   "id": "polyphonic-annual",
   "metadata": {},
   "outputs": [
    {
     "data": {
      "text/html": [
       "<div>\n",
       "<style scoped>\n",
       "    .dataframe tbody tr th:only-of-type {\n",
       "        vertical-align: middle;\n",
       "    }\n",
       "\n",
       "    .dataframe tbody tr th {\n",
       "        vertical-align: top;\n",
       "    }\n",
       "\n",
       "    .dataframe thead th {\n",
       "        text-align: right;\n",
       "    }\n",
       "</style>\n",
       "<table border=\"1\" class=\"dataframe\">\n",
       "  <thead>\n",
       "    <tr style=\"text-align: right;\">\n",
       "      <th></th>\n",
       "      <th>국어</th>\n",
       "      <th>영어</th>\n",
       "      <th>수학</th>\n",
       "      <th>평균</th>\n",
       "    </tr>\n",
       "  </thead>\n",
       "  <tbody>\n",
       "    <tr>\n",
       "      <th>춘향</th>\n",
       "      <td>80</td>\n",
       "      <td>90</td>\n",
       "      <td>90</td>\n",
       "      <td>86.666667</td>\n",
       "    </tr>\n",
       "    <tr>\n",
       "      <th>몽룡</th>\n",
       "      <td>90</td>\n",
       "      <td>70</td>\n",
       "      <td>60</td>\n",
       "      <td>73.333333</td>\n",
       "    </tr>\n",
       "    <tr>\n",
       "      <th>향단</th>\n",
       "      <td>70</td>\n",
       "      <td>60</td>\n",
       "      <td>80</td>\n",
       "      <td>70.000000</td>\n",
       "    </tr>\n",
       "    <tr>\n",
       "      <th>방자</th>\n",
       "      <td>30</td>\n",
       "      <td>40</td>\n",
       "      <td>70</td>\n",
       "      <td>46.666667</td>\n",
       "    </tr>\n",
       "  </tbody>\n",
       "</table>\n",
       "</div>"
      ],
      "text/plain": [
       "    국어  영어  수학         평균\n",
       "춘향  80  90  90  86.666667\n",
       "몽룡  90  70  60  73.333333\n",
       "향단  70  60  80  70.000000\n",
       "방자  30  40  70  46.666667"
      ]
     },
     "execution_count": 59,
     "metadata": {},
     "output_type": "execute_result"
    }
   ],
   "source": [
    "df['평균']=(df['국어']+df['수학']+df['영어'])/3\n",
    "df"
   ]
  },
  {
   "cell_type": "markdown",
   "id": "ranging-sequence",
   "metadata": {},
   "source": [
    "## 열 지우기"
   ]
  },
  {
   "cell_type": "code",
   "execution_count": 60,
   "id": "portable-graham",
   "metadata": {},
   "outputs": [
    {
     "data": {
      "text/html": [
       "<div>\n",
       "<style scoped>\n",
       "    .dataframe tbody tr th:only-of-type {\n",
       "        vertical-align: middle;\n",
       "    }\n",
       "\n",
       "    .dataframe tbody tr th {\n",
       "        vertical-align: top;\n",
       "    }\n",
       "\n",
       "    .dataframe thead th {\n",
       "        text-align: right;\n",
       "    }\n",
       "</style>\n",
       "<table border=\"1\" class=\"dataframe\">\n",
       "  <thead>\n",
       "    <tr style=\"text-align: right;\">\n",
       "      <th></th>\n",
       "      <th>국어</th>\n",
       "      <th>영어</th>\n",
       "      <th>수학</th>\n",
       "    </tr>\n",
       "  </thead>\n",
       "  <tbody>\n",
       "    <tr>\n",
       "      <th>춘향</th>\n",
       "      <td>80</td>\n",
       "      <td>90</td>\n",
       "      <td>90</td>\n",
       "    </tr>\n",
       "    <tr>\n",
       "      <th>몽룡</th>\n",
       "      <td>90</td>\n",
       "      <td>70</td>\n",
       "      <td>60</td>\n",
       "    </tr>\n",
       "    <tr>\n",
       "      <th>향단</th>\n",
       "      <td>70</td>\n",
       "      <td>60</td>\n",
       "      <td>80</td>\n",
       "    </tr>\n",
       "    <tr>\n",
       "      <th>방자</th>\n",
       "      <td>30</td>\n",
       "      <td>40</td>\n",
       "      <td>70</td>\n",
       "    </tr>\n",
       "  </tbody>\n",
       "</table>\n",
       "</div>"
      ],
      "text/plain": [
       "    국어  영어  수학\n",
       "춘향  80  90  90\n",
       "몽룡  90  70  60\n",
       "향단  70  60  80\n",
       "방자  30  40  70"
      ]
     },
     "execution_count": 60,
     "metadata": {},
     "output_type": "execute_result"
    }
   ],
   "source": [
    "del df['평균']\n",
    "df"
   ]
  }
 ],
 "metadata": {
  "kernelspec": {
   "display_name": "Python 3",
   "language": "python",
   "name": "python3"
  },
  "language_info": {
   "codemirror_mode": {
    "name": "ipython",
    "version": 3
   },
   "file_extension": ".py",
   "mimetype": "text/x-python",
   "name": "python",
   "nbconvert_exporter": "python",
   "pygments_lexer": "ipython3",
   "version": "3.7.3"
  }
 },
 "nbformat": 4,
 "nbformat_minor": 5
}
