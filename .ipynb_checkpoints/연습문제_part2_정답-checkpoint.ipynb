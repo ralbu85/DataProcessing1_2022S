{
 "cells": [
  {
   "cell_type": "code",
   "execution_count": 1,
   "id": "0250e0a5-04f5-4782-a066-e2c7c502c171",
   "metadata": {},
   "outputs": [],
   "source": [
    "import numpy as np"
   ]
  },
  {
   "cell_type": "markdown",
   "id": "1994d9c3-1a3f-4d10-99ca-f490c6fa90aa",
   "metadata": {
    "tags": []
   },
   "source": [
    "### 문제 1. 값이 10~49인 벡터 만들기"
   ]
  },
  {
   "cell_type": "code",
   "execution_count": 2,
   "id": "d1dc9c5d-ac95-4baa-9b69-8ec351cdbb80",
   "metadata": {},
   "outputs": [],
   "source": [
    "z = np.arange(10,50)# 여기에 코드를 완성하시오"
   ]
  },
  {
   "cell_type": "code",
   "execution_count": 3,
   "id": "e490f891-ce45-4aa0-8a68-fcd70757a5fc",
   "metadata": {},
   "outputs": [
    {
     "data": {
      "text/plain": [
       "array([10, 11, 12, 13, 14, 15, 16, 17, 18, 19, 20, 21, 22, 23, 24, 25, 26,\n",
       "       27, 28, 29, 30, 31, 32, 33, 34, 35, 36, 37, 38, 39, 40, 41, 42, 43,\n",
       "       44, 45, 46, 47, 48, 49])"
      ]
     },
     "execution_count": 3,
     "metadata": {},
     "output_type": "execute_result"
    }
   ],
   "source": [
    "z"
   ]
  },
  {
   "cell_type": "markdown",
   "id": "c3e9238d-7d5c-425d-b057-2475cbc61b91",
   "metadata": {},
   "source": [
    "### 문제 2. a와 b 배열을 붙여 output 처럼 나오게 해보시오"
   ]
  },
  {
   "cell_type": "code",
   "execution_count": 4,
   "id": "b72d3e2d-5286-4da6-8158-d5a612d9d744",
   "metadata": {},
   "outputs": [],
   "source": [
    "a = np.arange(10).reshape(2,-1)\n",
    "b = np.repeat(1,10).reshape(2,-1)\n",
    "# 여기에 코드를 완성하시오\n",
    "c = np.vstack([a,b])"
   ]
  },
  {
   "cell_type": "code",
   "execution_count": 5,
   "id": "7160dc01-204f-408f-a945-29ace8a60e34",
   "metadata": {},
   "outputs": [
    {
     "data": {
      "text/plain": [
       "array([[0, 1, 2, 3, 4],\n",
       "       [5, 6, 7, 8, 9],\n",
       "       [1, 1, 1, 1, 1],\n",
       "       [1, 1, 1, 1, 1]])"
      ]
     },
     "execution_count": 5,
     "metadata": {},
     "output_type": "execute_result"
    }
   ],
   "source": [
    "c"
   ]
  },
  {
   "cell_type": "markdown",
   "id": "dfdac4b8-4ad3-4135-a3d1-82c208481b39",
   "metadata": {},
   "source": [
    "### 문제 3. a와 b를 붙여 output 처럼 나오게 해보시오"
   ]
  },
  {
   "cell_type": "code",
   "execution_count": 6,
   "id": "5efbf066-9427-4c89-95af-18852b068cd9",
   "metadata": {},
   "outputs": [],
   "source": [
    "a = np.arange(10).reshape(2,-1)\n",
    "b = np.repeat(1,10).reshape(2,-1)\n",
    "# 여기에 코드를 완성하시오\n",
    "c = np.hstack([a,b])"
   ]
  },
  {
   "cell_type": "code",
   "execution_count": 7,
   "id": "7c7724f0-b0d5-4321-ac08-c752fd225732",
   "metadata": {},
   "outputs": [
    {
     "data": {
      "text/plain": [
       "array([[0, 1, 2, 3, 4, 1, 1, 1, 1, 1],\n",
       "       [5, 6, 7, 8, 9, 1, 1, 1, 1, 1]])"
      ]
     },
     "execution_count": 7,
     "metadata": {},
     "output_type": "execute_result"
    }
   ],
   "source": [
    "c"
   ]
  },
  {
   "cell_type": "markdown",
   "id": "696ff3fa-5e23-4413-ae1b-a0dab874870a",
   "metadata": {},
   "source": [
    "### 문제 4. 다음 arr 배열의 1열과 2열을 바꾸어보시오"
   ]
  },
  {
   "cell_type": "code",
   "execution_count": 8,
   "id": "5225b8c2-d93a-4fb1-9c82-1171b119dc16",
   "metadata": {},
   "outputs": [],
   "source": [
    "arr = np.arange(9).reshape(3,3)\n",
    "# 여기에 코드를 완성하시오\n",
    "output = arr[:,[1,0,2]]"
   ]
  },
  {
   "cell_type": "code",
   "execution_count": 9,
   "id": "c020c6d1-a4df-46e1-83a8-b119641587a8",
   "metadata": {},
   "outputs": [
    {
     "data": {
      "text/plain": [
       "array([[1, 0, 2],\n",
       "       [4, 3, 5],\n",
       "       [7, 6, 8]])"
      ]
     },
     "execution_count": 9,
     "metadata": {},
     "output_type": "execute_result"
    }
   ],
   "source": [
    "output"
   ]
  },
  {
   "cell_type": "markdown",
   "id": "79c6af83-7a50-4f3a-954a-95d35ffc3338",
   "metadata": {},
   "source": [
    "### 문제 5. 10x10 행렬을 무작위 값으로 만들고, 이중 가장 큰값과 가장 작은값을 출력하시오"
   ]
  },
  {
   "cell_type": "code",
   "execution_count": 10,
   "id": "adb7b582-3556-410e-b829-d8542416a594",
   "metadata": {},
   "outputs": [],
   "source": [
    "Z = np.random.random((10,10))\n",
    "# 여기에 코드를 완성하시오\n",
    "Zmax = np.max(Z)\n",
    "Zmin = np.min(Z)"
   ]
  },
  {
   "cell_type": "code",
   "execution_count": 11,
   "id": "41448d8e-0dc3-4bf2-aad0-f66ea6b020c3",
   "metadata": {},
   "outputs": [
    {
     "data": {
      "text/plain": [
       "(0.0018654622135073629, 0.99528085818241)"
      ]
     },
     "execution_count": 11,
     "metadata": {},
     "output_type": "execute_result"
    }
   ],
   "source": [
    "Zmin, Zmax"
   ]
  },
  {
   "cell_type": "markdown",
   "id": "9ee066df-b679-4abb-9247-bfae7e30b4cc",
   "metadata": {},
   "source": [
    "### 문제 6. 다음 10개의 난수로 구성된 1차원 벡터를 평균이 0, 표준편차가 1이 되도록 표준화 해보시오"
   ]
  },
  {
   "cell_type": "code",
   "execution_count": 12,
   "id": "e73dc69e-93cd-42a6-91c1-caa441e25ba0",
   "metadata": {},
   "outputs": [],
   "source": [
    "Z = np.array([0.31133765, 0.42798004, 0.57616988, 0.44958045, 0.83194879,\n",
    "        0.76685495, 0.62244241, 0.16691802, 0.43376578, 0.91089849])\n",
    "# 여기에 코드를 완성하시오\n",
    "output = (Z-Z.mean())/Z.std()"
   ]
  },
  {
   "cell_type": "code",
   "execution_count": 13,
   "id": "55470e80-73be-48d7-96e2-df088212add7",
   "metadata": {},
   "outputs": [
    {
     "data": {
      "text/plain": [
       "array([-1.06120662, -0.5421014 ,  0.11740258, -0.44597095,  1.25572089,\n",
       "        0.9660273 ,  0.32333382, -1.70393166, -0.51635255,  1.60707859])"
      ]
     },
     "execution_count": 13,
     "metadata": {},
     "output_type": "execute_result"
    }
   ],
   "source": [
    "output"
   ]
  },
  {
   "cell_type": "markdown",
   "id": "c8244ce7-e8ec-4ba5-b02c-a3f3d333be18",
   "metadata": {},
   "source": [
    "### 문제 7. 다음 10개의 난수로 구성된 1차원 벡터를 가장 큰값이 1, 가장 작은값이 0이 되도록 scaling 해보시오"
   ]
  },
  {
   "cell_type": "code",
   "execution_count": 14,
   "id": "bf4553ea-25ff-4856-8d44-c165c10a38d7",
   "metadata": {},
   "outputs": [],
   "source": [
    "Z = np.array([0.40963416, 0.33979499, 0.70328766, 0.41573381, 0.14553798,\n",
    "        0.52721247, 0.19458189, 0.03311641, 0.8823146 , 0.26064835])\n",
    "# 여기에 코드를 완성하시오\n",
    "output = (Z-Z.min())/(Z.max()-Z.min())"
   ]
  },
  {
   "cell_type": "code",
   "execution_count": 15,
   "id": "4dcb8014-3de4-423e-be24-9943af30064e",
   "metadata": {},
   "outputs": [
    {
     "data": {
      "text/plain": [
       "array([0.4433803 , 0.36113899, 0.7891812 , 0.45056314, 0.13238555,\n",
       "       0.58183833, 0.19013875, 0.        , 1.        , 0.26793738])"
      ]
     },
     "execution_count": 15,
     "metadata": {},
     "output_type": "execute_result"
    }
   ],
   "source": [
    "output"
   ]
  },
  {
   "cell_type": "markdown",
   "id": "243a4b5f-f462-428e-aece-da513a452ed1",
   "metadata": {},
   "source": [
    "### 문제 8. x1과 x2가 다음과 같이 주어져 있다고 했을 때, x1과 x2 사이의 euclidean 거리를 구하시오"
   ]
  },
  {
   "cell_type": "code",
   "execution_count": 16,
   "id": "f91a7aef-08ef-454f-9243-7e7483b36001",
   "metadata": {},
   "outputs": [],
   "source": [
    "x1 = np.array([0.80613052, 0.67309259, 0.09951646, 0.55846128, 0.58813155,\n",
    "        0.75319395, 0.72803027, 0.84311547, 0.18048347, 0.31831743])\n",
    "x2 = np.array([0.25120753, 0.52098051, 0.51716525, 0.10752372, 0.88843811,\n",
    "        0.69997451, 0.07190681, 0.59718395, 0.51176892, 0.41642108])\n",
    "# 여기에 코드를 완성하시오\n",
    "output=np.sqrt(np.sum((x1 - x2)**2))"
   ]
  },
  {
   "cell_type": "code",
   "execution_count": 17,
   "id": "2fe1256b-a41f-4961-856d-6f80b0821c4f",
   "metadata": {},
   "outputs": [
    {
     "data": {
      "text/plain": [
       "1.1883702394916906"
      ]
     },
     "execution_count": 17,
     "metadata": {},
     "output_type": "execute_result"
    }
   ],
   "source": [
    "output"
   ]
  },
  {
   "cell_type": "markdown",
   "id": "ae073c49-fa8c-4df5-acd3-27d36e63a2d2",
   "metadata": {},
   "source": [
    "### 문제 9. 어떤 벡터의 soft max 함수의 공식이 다음과 같다고 할때, 주어진 벡터를 soft max함수에 넣었을때 값을 계산하시오"
   ]
  },
  {
   "attachments": {
    "544b9138-4e43-49bf-bd40-b779d2fd2429.png": {
     "image/png": "[encoded data removed]"
    }
   },
   "cell_type": "markdown",
   "id": "ba9b7269-c0a0-49f3-90f9-d48db9d3c10b",
   "metadata": {},
   "source": [
    "![image.png](attachment:544b9138-4e43-49bf-bd40-b779d2fd2429.png)"
   ]
  },
  {
   "cell_type": "code",
   "execution_count": 18,
   "id": "95adda7f-6596-471f-b089-23c036d370f4",
   "metadata": {},
   "outputs": [],
   "source": [
    "x = np.array([1.3,5.1,2.2,0.7,1.1])\n",
    "# 여기에 코드를 완성하시오\n",
    "output = np.exp(x)/np.sum(np.exp(x))"
   ]
  },
  {
   "cell_type": "code",
   "execution_count": 19,
   "id": "1667ac45-4941-40cd-8ee9-b8efe4b01ae2",
   "metadata": {},
   "outputs": [
    {
     "data": {
      "text/plain": [
       "array([0.02019046, 0.90253769, 0.04966053, 0.01108076, 0.01653055])"
      ]
     },
     "execution_count": 19,
     "metadata": {},
     "output_type": "execute_result"
    }
   ],
   "source": [
    "output"
   ]
  },
  {
   "cell_type": "markdown",
   "id": "54351da2-6b03-43be-b71a-e09689739dc7",
   "metadata": {},
   "source": [
    "### 문제 10. 다음 20개 데이터의 moving average를 구하라, 5개의 기간에 거친 average이다."
   ]
  },
  {
   "cell_type": "code",
   "execution_count": 20,
   "id": "e77af353-0cdd-4adf-9a4a-cfbfb455b7b5",
   "metadata": {},
   "outputs": [],
   "source": [
    "x = np.array([ 8, 18, 13,  0,  0,  7,  3, 10, 16,  0,  1,  0, 19,  8,  6,  0,  6,\n",
    "        3,  3,  9])\n",
    "# 여기에 코드를 완성하시오\n",
    "output = np.zeros(16)\n",
    "for i in range(len(output)):\n",
    "    output[i] = np.mean(x[i:i+5])    "
   ]
  },
  {
   "cell_type": "code",
   "execution_count": 21,
   "id": "8568307d-62bb-4739-baaf-5999b8057487",
   "metadata": {},
   "outputs": [
    {
     "data": {
      "text/plain": [
       "array([7.8, 7.6, 4.6, 4. , 7.2, 7.2, 6. , 5.4, 7.2, 5.6, 6.8, 6.6, 7.8,\n",
       "       4.6, 3.6, 4.2])"
      ]
     },
     "execution_count": 21,
     "metadata": {},
     "output_type": "execute_result"
    }
   ],
   "source": [
    "output"
   ]
  },
  {
   "cell_type": "markdown",
   "id": "ec13b5e9-dc48-4a68-8494-de89a7b997ad",
   "metadata": {},
   "source": [
    "### 문제 11. 다음 3*3 행렬의 열과 행을 모두 바꾸어보시오"
   ]
  },
  {
   "cell_type": "code",
   "execution_count": 22,
   "id": "a52645f5-4b19-436b-b2f3-e7fd6ecaad53",
   "metadata": {},
   "outputs": [],
   "source": [
    "x = np.array([[0.53872349, 0.08180931, 0.97251297],\n",
    "       [0.9366096 , 0.42633928, 0.98613999],\n",
    "       [0.49924877, 0.9759776 , 0.62097236]])\n",
    "# 여기에 코드를 완성하시오\n",
    "output = np.zeros(9).reshape(3,3)\n",
    "for i in range(3):\n",
    "    for j in range(3):\n",
    "        output[i,j] = x[j,i]        "
   ]
  },
  {
   "cell_type": "code",
   "execution_count": 23,
   "id": "96c7a2ea-bb3b-4074-a443-3bd644191c2a",
   "metadata": {},
   "outputs": [
    {
     "data": {
      "text/plain": [
       "(array([[0.53872349, 0.08180931, 0.97251297],\n",
       "        [0.9366096 , 0.42633928, 0.98613999],\n",
       "        [0.49924877, 0.9759776 , 0.62097236]]),\n",
       " array([[0.53872349, 0.9366096 , 0.49924877],\n",
       "        [0.08180931, 0.42633928, 0.9759776 ],\n",
       "        [0.97251297, 0.98613999, 0.62097236]]))"
      ]
     },
     "execution_count": 23,
     "metadata": {},
     "output_type": "execute_result"
    }
   ],
   "source": [
    "x, output"
   ]
  },
  {
   "cell_type": "markdown",
   "id": "487dc466-bfee-4689-b6f7-0c20b7d8805e",
   "metadata": {},
   "source": [
    "### 문제 12. 다음 벡터의 표준편차를 직접 계산해보시오 (내장함수 std를 사용하지 말고 연산으로)"
   ]
  },
  {
   "cell_type": "code",
   "execution_count": 24,
   "id": "7db71b17-6d4a-4e8b-8052-7d4e23379297",
   "metadata": {},
   "outputs": [],
   "source": [
    "x = np.random.random(10)\n",
    "# 여기에 코드를 완성하시오\n",
    "std = np.sqrt(np.sum((x-x.mean())**2)/len(x))"
   ]
  },
  {
   "cell_type": "code",
   "execution_count": 25,
   "id": "7c9254ca-d0f9-4c58-b04d-fb8196e63aac",
   "metadata": {},
   "outputs": [
    {
     "data": {
      "text/plain": [
       "(0.26730336741059435, 0.26730336741059435)"
      ]
     },
     "execution_count": 25,
     "metadata": {},
     "output_type": "execute_result"
    }
   ],
   "source": [
    "std, x.std()"
   ]
  },
  {
   "cell_type": "markdown",
   "id": "1a77efaf-568a-49a6-a122-2cf252100959",
   "metadata": {},
   "source": [
    "### 문제 13. 다음 벡터에서 평균보다 큰 값을 갖는 값들을 모두 추려내시오"
   ]
  },
  {
   "cell_type": "code",
   "execution_count": 26,
   "id": "37861774-ed8b-4546-adb8-da89d2da09ca",
   "metadata": {},
   "outputs": [
    {
     "data": {
      "text/plain": [
       "array([19, 14, 19, 16, 18, 19, 17, 11, 14])"
      ]
     },
     "execution_count": 26,
     "metadata": {},
     "output_type": "execute_result"
    }
   ],
   "source": [
    "x= np.array([ 3,  6,  9, 19,  3,  8,  3, 14, 19, 16,  5, 18,  0, 19, 17,  8, 11,\n",
    "       10,  0, 14])\n",
    "# 여기에 코드를 완성하시오\n",
    "output = x[x>x.mean()]\n",
    "output"
   ]
  },
  {
   "cell_type": "code",
   "execution_count": 27,
   "id": "ac53eb04-7bee-4f2c-9680-8e154e349647",
   "metadata": {},
   "outputs": [
    {
     "data": {
      "text/plain": [
       "array([19, 14, 19, 16, 18, 19, 17, 11, 14])"
      ]
     },
     "execution_count": 27,
     "metadata": {},
     "output_type": "execute_result"
    }
   ],
   "source": [
    "output"
   ]
  },
  {
   "cell_type": "markdown",
   "id": "c8bb1a84-6ab5-45f3-b5c0-c30c6ff0311a",
   "metadata": {},
   "source": [
    "### 문제 14. 다음 벡터에서 3/4분위수 보다 큰 값을 갖는 값을 모두 추려내시오"
   ]
  },
  {
   "cell_type": "code",
   "execution_count": 28,
   "id": "1f141a4a-ef5e-4736-971e-4e8d771b716d",
   "metadata": {},
   "outputs": [
    {
     "data": {
      "text/plain": [
       "array([19, 19, 18, 19, 17])"
      ]
     },
     "execution_count": 28,
     "metadata": {},
     "output_type": "execute_result"
    }
   ],
   "source": [
    "x= np.array([ 3,  6,  9, 19,  3,  8,  3, 14, 19, 16,  5, 18,  0, 19, 17,  8, 11,\n",
    "       10,  0, 14])\n",
    "# 여기에 코드를 완성하시오\n",
    "output = x[x>np.quantile(x,0.75)]\n",
    "output"
   ]
  },
  {
   "cell_type": "code",
   "execution_count": 29,
   "id": "570c4217-253f-4729-9ce6-51c664fb48fe",
   "metadata": {},
   "outputs": [
    {
     "data": {
      "text/plain": [
       "array([19, 19, 18, 19, 17])"
      ]
     },
     "execution_count": 29,
     "metadata": {},
     "output_type": "execute_result"
    }
   ],
   "source": [
    "output"
   ]
  },
  {
   "cell_type": "markdown",
   "id": "8e9581e6-0a69-4e43-802b-80361f029517",
   "metadata": {},
   "source": [
    "### 문제 15. 다음 벡터에서 가장 작은값을 0으로 치환하시오"
   ]
  },
  {
   "cell_type": "code",
   "execution_count": 30,
   "id": "b9bf73d8-a84b-4a0f-bfa2-bb6c479605dd",
   "metadata": {},
   "outputs": [
    {
     "data": {
      "text/plain": [
       "array([0.90638275, 0.66043231, 0.50932363, 0.50475058, 0.8569922 ,\n",
       "       0.63760482, 0.98546223, 0.23883875, 0.30773269, 0.        ])"
      ]
     },
     "execution_count": 30,
     "metadata": {},
     "output_type": "execute_result"
    }
   ],
   "source": [
    "x = np.array([0.90638275, 0.66043231, 0.50932363, 0.50475058, 0.8569922 ,\n",
    "       0.63760482, 0.98546223, 0.23883875, 0.30773269, 0.00787767])\n",
    "# 여기에 코드를 완성하시오\n",
    "\n",
    "x[x.argmin()]=0 #argmin은 가장 작은값을 갖는 위치를 반환한다.\n",
    "output = x\n",
    "output"
   ]
  },
  {
   "cell_type": "code",
   "execution_count": 31,
   "id": "ae065a86-f702-4fb7-a091-761297cc5d04",
   "metadata": {},
   "outputs": [
    {
     "data": {
      "text/plain": [
       "array([0.90638275, 0.66043231, 0.50932363, 0.50475058, 0.8569922 ,\n",
       "       0.63760482, 0.98546223, 0.23883875, 0.30773269, 0.        ])"
      ]
     },
     "execution_count": 31,
     "metadata": {},
     "output_type": "execute_result"
    }
   ],
   "source": [
    "output"
   ]
  },
  {
   "cell_type": "markdown",
   "id": "b4b6bfad-f353-4e68-8faa-7483a07645e3",
   "metadata": {},
   "source": [
    "### 문제 16. 다음 벡터를 오름차순으로 정렬하시오"
   ]
  },
  {
   "cell_type": "code",
   "execution_count": 32,
   "id": "191b4d7a-a79f-4428-8a56-47c0c285aece",
   "metadata": {},
   "outputs": [
    {
     "data": {
      "text/plain": [
       "array([0.00787767, 0.23883875, 0.30773269, 0.50475058, 0.50932363,\n",
       "       0.63760482, 0.66043231, 0.8569922 , 0.90638275, 0.98546223])"
      ]
     },
     "execution_count": 32,
     "metadata": {},
     "output_type": "execute_result"
    }
   ],
   "source": [
    "x = np.array([0.90638275, 0.66043231, 0.50932363, 0.50475058, 0.8569922 ,\n",
    "       0.63760482, 0.98546223, 0.23883875, 0.30773269, 0.00787767])\n",
    "# 여기에 코드를 완성하시오\n",
    "output = np.sort(x)\n",
    "output"
   ]
  },
  {
   "cell_type": "code",
   "execution_count": 33,
   "id": "47edc4d8-5898-4407-8e8d-dd358ae1e7eb",
   "metadata": {},
   "outputs": [
    {
     "data": {
      "text/plain": [
       "array([0.00787767, 0.23883875, 0.30773269, 0.50475058, 0.50932363,\n",
       "       0.63760482, 0.66043231, 0.8569922 , 0.90638275, 0.98546223])"
      ]
     },
     "execution_count": 33,
     "metadata": {},
     "output_type": "execute_result"
    }
   ],
   "source": [
    "output"
   ]
  },
  {
   "cell_type": "markdown",
   "id": "b39b09a8-01e5-4299-b366-67fb2df06f7c",
   "metadata": {},
   "source": [
    "### 문제 17. 다음 벡터를 내림차순으로 정렬하시오"
   ]
  },
  {
   "cell_type": "code",
   "execution_count": 34,
   "id": "46bda8ad-9c05-4288-930d-2697edb51251",
   "metadata": {},
   "outputs": [
    {
     "data": {
      "text/plain": [
       "array([0.98546223, 0.90638275, 0.8569922 , 0.66043231, 0.63760482,\n",
       "       0.50932363, 0.50475058, 0.30773269, 0.23883875, 0.00787767])"
      ]
     },
     "execution_count": 34,
     "metadata": {},
     "output_type": "execute_result"
    }
   ],
   "source": [
    "x = np.array([0.90638275, 0.66043231, 0.50932363, 0.50475058, 0.8569922 ,\n",
    "       0.63760482, 0.98546223, 0.23883875, 0.30773269, 0.00787767])\n",
    "# 여기에 코드를 완성하시오\n",
    "output = np.sort(x)[::-1]\n",
    "output"
   ]
  },
  {
   "cell_type": "code",
   "execution_count": 35,
   "id": "015ff115-d8c4-4ea4-adfa-d0d4df5f0502",
   "metadata": {},
   "outputs": [
    {
     "data": {
      "text/plain": [
       "array([0.98546223, 0.90638275, 0.8569922 , 0.66043231, 0.63760482,\n",
       "       0.50932363, 0.50475058, 0.30773269, 0.23883875, 0.00787767])"
      ]
     },
     "execution_count": 35,
     "metadata": {},
     "output_type": "execute_result"
    }
   ],
   "source": [
    "output"
   ]
  },
  {
   "cell_type": "markdown",
   "id": "d3dd2533-6743-43fc-a7b1-16c643585d21",
   "metadata": {
    "tags": []
   },
   "source": [
    "### 문제 18. argsort를 이용하여 벡터를 내림차순으로 정렬해보시오"
   ]
  },
  {
   "cell_type": "code",
   "execution_count": 36,
   "id": "5405cd87-39af-4cb5-b359-d52cbba148b5",
   "metadata": {},
   "outputs": [
    {
     "data": {
      "text/plain": [
       "array([0.98546223, 0.90638275, 0.8569922 , 0.66043231, 0.63760482,\n",
       "       0.50932363, 0.50475058, 0.30773269, 0.23883875, 0.00787767])"
      ]
     },
     "execution_count": 36,
     "metadata": {},
     "output_type": "execute_result"
    }
   ],
   "source": [
    "x = np.array([0.90638275, 0.66043231, 0.50932363, 0.50475058, 0.8569922 ,\n",
    "       0.63760482, 0.98546223, 0.23883875, 0.30773269, 0.00787767])\n",
    "ind=x.argsort()\n",
    "# 여기에 코드를 완성하시오\n",
    "output=x[ind[::-1]]\n",
    "output"
   ]
  },
  {
   "cell_type": "code",
   "execution_count": 37,
   "id": "b366e812-1877-4b2e-b143-324a75d79c45",
   "metadata": {},
   "outputs": [
    {
     "data": {
      "text/plain": [
       "array([0.98546223, 0.90638275, 0.8569922 , 0.66043231, 0.63760482,\n",
       "       0.50932363, 0.50475058, 0.30773269, 0.23883875, 0.00787767])"
      ]
     },
     "execution_count": 37,
     "metadata": {},
     "output_type": "execute_result"
    }
   ],
   "source": [
    "output"
   ]
  },
  {
   "cell_type": "markdown",
   "id": "bdbc8ac7-3c1c-4d27-a120-35fff1f4092f",
   "metadata": {},
   "source": [
    "### 문제 18. 다음 5 by 5 매트릭스가 있다. 2행의 값에 따라 열을 재정렬하시오"
   ]
  },
  {
   "cell_type": "code",
   "execution_count": 38,
   "id": "c83b9b4d-1e6f-4b20-850f-8f7bc9b6171c",
   "metadata": {},
   "outputs": [],
   "source": [
    "x = np.array([[11, 15,  2,  0, 16],\n",
    "       [ 3,  5, 14, 14,  0],\n",
    "       [15,  1, 11, 15,  7],\n",
    "       [19, 18, 16,  9, 16],\n",
    "       [ 3, 15,  3, 16, 17]])\n",
    "# 여기에 코드를 완성하시오\n",
    "ind=x[1,:].argsort()\n",
    "output = x[:,ind]"
   ]
  },
  {
   "cell_type": "code",
   "execution_count": 39,
   "id": "aa7a99b3-c890-4d2d-a63c-03c920df83e6",
   "metadata": {},
   "outputs": [
    {
     "data": {
      "text/plain": [
       "array([[16, 11, 15,  2,  0],\n",
       "       [ 0,  3,  5, 14, 14],\n",
       "       [ 7, 15,  1, 11, 15],\n",
       "       [16, 19, 18, 16,  9],\n",
       "       [17,  3, 15,  3, 16]])"
      ]
     },
     "execution_count": 39,
     "metadata": {},
     "output_type": "execute_result"
    }
   ],
   "source": [
    "output"
   ]
  },
  {
   "cell_type": "markdown",
   "id": "b78977dd-425a-44ca-baeb-af83806f0700",
   "metadata": {},
   "source": [
    "### 문제 19. 다음 5 by 5 매트릭스가 있다. 행별 합의 크기에 따라 행을 다시 재정렬하시오"
   ]
  },
  {
   "cell_type": "code",
   "execution_count": 40,
   "id": "239717ae-91dd-4840-aef5-ad3b1ea8aa2b",
   "metadata": {},
   "outputs": [
    {
     "name": "stdout",
     "output_type": "stream",
     "text": [
      "[[11 15  2  0 16]\n",
      " [ 3  5 14 14  0]\n",
      " [15  1 11 15  7]\n",
      " [19 18 16  9 16]\n",
      " [ 3 15  3 16 17]] [44 36 49 78 54] [1 0 2 4 3]\n"
     ]
    }
   ],
   "source": [
    "x = np.array([[11, 15,  2,  0, 16],\n",
    "       [ 3,  5, 14, 14,  0],\n",
    "       [15,  1, 11, 15,  7],\n",
    "       [19, 18, 16,  9, 16],\n",
    "       [ 3, 15,  3, 16, 17]])\n",
    "# 여기에 코드를 완성하시오\n",
    "row_sum=np.sum(x,axis=1)\n",
    "ind=np.argsort(row_sum)\n",
    "print(x,row_sum, ind)\n",
    "output=x[ind,:]"
   ]
  },
  {
   "cell_type": "code",
   "execution_count": 41,
   "id": "7162ea7f-e3f4-4168-a955-1221f0fe7e29",
   "metadata": {},
   "outputs": [
    {
     "data": {
      "text/plain": [
       "array([[ 3,  5, 14, 14,  0],\n",
       "       [11, 15,  2,  0, 16],\n",
       "       [15,  1, 11, 15,  7],\n",
       "       [ 3, 15,  3, 16, 17],\n",
       "       [19, 18, 16,  9, 16]])"
      ]
     },
     "execution_count": 41,
     "metadata": {},
     "output_type": "execute_result"
    }
   ],
   "source": [
    "output"
   ]
  },
  {
   "cell_type": "markdown",
   "id": "9aaac16f-d72d-4e62-98c6-fdcc33baa979",
   "metadata": {},
   "source": [
    "### 문제 20. 다음 (2x20) 행렬이 있으며, 이는 2차원으로 구성된 10개의 데이터를 의미한다. (10,10)과 10개의 데이터 사이의 유클리디안 거리를 구하시오"
   ]
  },
  {
   "cell_type": "code",
   "execution_count": 42,
   "id": "dc068373-d0ef-49d6-9ce7-0ba65e6fdadd",
   "metadata": {},
   "outputs": [],
   "source": [
    "x = np.array([[ 0,  2],\n",
    "        [11, 13],\n",
    "        [13, 19],\n",
    "        [17, 15],\n",
    "        [ 0, 12],\n",
    "        [ 5, 18],\n",
    "        [ 1,  3],\n",
    "        [19, 14],\n",
    "        [ 8,  4],\n",
    "        [ 2, 18],\n",
    "        [ 6,  1],\n",
    "        [ 6,  0],\n",
    "        [19, 13],\n",
    "        [ 1, 13],\n",
    "        [ 2,  7],\n",
    "        [ 7,  0],\n",
    "        [10,  1],\n",
    "        [ 1,  9],\n",
    "        [ 2, 13],\n",
    "        [12,  7]])\n",
    "z = np.array([10,10])\n",
    "# 여기에 코드를 완성하시오\n",
    "dist=np.sqrt(np.sum((x-z)**2,axis=1))"
   ]
  },
  {
   "cell_type": "code",
   "execution_count": 43,
   "id": "5f090604-3fd3-4b7c-9a92-cbf20eada846",
   "metadata": {},
   "outputs": [
    {
     "data": {
      "text/plain": [
       "array([12.80624847,  3.16227766,  9.48683298,  8.60232527, 10.19803903,\n",
       "        9.43398113, 11.40175425,  9.8488578 ,  6.32455532, 11.3137085 ,\n",
       "        9.8488578 , 10.77032961,  9.48683298,  9.48683298,  8.54400375,\n",
       "       10.44030651,  9.        ,  9.05538514,  8.54400375,  3.60555128])"
      ]
     },
     "execution_count": 43,
     "metadata": {},
     "output_type": "execute_result"
    }
   ],
   "source": [
    "dist"
   ]
  },
  {
   "cell_type": "markdown",
   "id": "cbf4492d-3040-4530-9f0c-5ecf454e89ba",
   "metadata": {},
   "source": [
    "### 문제 21. 다음 (2x20) 행렬이 있으며, 이는 2차원으로 구성된 10개의 데이터를 의미한다. (10,10)과 10개의 데이터 사이의 유클리디안 거리를 구하고, 가장 가까운 5개 점의 좌표와 유클리디안 거리를 각각 구하시오"
   ]
  },
  {
   "cell_type": "code",
   "execution_count": 44,
   "id": "189cc4e6-c099-4dd2-9e7b-b0043af82e86",
   "metadata": {},
   "outputs": [],
   "source": [
    "x = np.array([[ 0,  2],\n",
    "        [11, 13],\n",
    "        [13, 19],\n",
    "        [17, 15],\n",
    "        [ 0, 12],\n",
    "        [ 5, 18],\n",
    "        [ 1,  3],\n",
    "        [19, 14],\n",
    "        [ 8,  4],\n",
    "        [ 2, 18],\n",
    "        [ 6,  1],\n",
    "        [ 6,  0],\n",
    "        [19, 13],\n",
    "        [ 1, 13],\n",
    "        [ 2,  7],\n",
    "        [ 7,  0],\n",
    "        [10,  1],\n",
    "        [ 1,  9],\n",
    "        [ 2, 13],\n",
    "        [12,  7]])\n",
    "# 여기에 코드를 완성하시오\n",
    "dist=np.sqrt(np.sum((x-z)**2,axis=1))  \n",
    "ind = dist.argsort()[:5] #가장 가까운 5개의 점의 위치\n",
    "euc_dist=dist[ind] # 가장 가까운 5개 점과의 거리"
   ]
  },
  {
   "cell_type": "code",
   "execution_count": 45,
   "id": "52d42ef7-34fd-4603-a371-3ef7cffb335c",
   "metadata": {},
   "outputs": [
    {
     "data": {
      "text/plain": [
       "array([3.16227766, 3.60555128, 6.32455532, 8.54400375, 8.54400375])"
      ]
     },
     "execution_count": 45,
     "metadata": {},
     "output_type": "execute_result"
    }
   ],
   "source": [
    "euc_dist"
   ]
  }
 ],
 "metadata": {
  "kernelspec": {
   "display_name": "Python 3 (ipykernel)",
   "language": "python",
   "name": "python3"
  },
  "language_info": {
   "codemirror_mode": {
    "name": "ipython",
    "version": 3
   },
   "file_extension": ".py",
   "mimetype": "text/x-python",
   "name": "python",
   "nbconvert_exporter": "python",
   "pygments_lexer": "ipython3",
   "version": "3.8.10"
  }
 },
 "nbformat": 4,
 "nbformat_minor": 5
}
