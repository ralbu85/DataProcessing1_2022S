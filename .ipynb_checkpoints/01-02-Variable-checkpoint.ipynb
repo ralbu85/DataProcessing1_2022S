{
 "cells": [
  {
   "cell_type": "markdown",
   "id": "entitled-motion",
   "metadata": {},
   "source": [
    "# 2. 변수(Variable)"
   ]
  },
  {
   "cell_type": "markdown",
   "id": "comfortable-berkeley",
   "metadata": {},
   "source": [
    "- 값: 컴퓨터 메모리 안에 저장되어 있음\n",
    "- 변수: 메모리안에 저장된 값을 가리키는 리모컨\n",
    "- 변수를 통해 메모리안에 저장된 값에 접근할 수 있다."
   ]
  },
  {
   "cell_type": "code",
   "execution_count": 14,
   "id": "suitable-simpson",
   "metadata": {},
   "outputs": [
    {
     "ename": "NameError",
     "evalue": "name 'pi' is not defined",
     "output_type": "error",
     "traceback": [
      "\u001b[0;31m---------------------------------------------------------------------------\u001b[0m",
      "\u001b[0;31mNameError\u001b[0m                                 Traceback (most recent call last)",
      "\u001b[0;32m<ipython-input-14-f84ab820532c>\u001b[0m in \u001b[0;36m<module>\u001b[0;34m\u001b[0m\n\u001b[0;32m----> 1\u001b[0;31m \u001b[0mpi\u001b[0m\u001b[0;34m\u001b[0m\u001b[0;34m\u001b[0m\u001b[0m\n\u001b[0m",
      "\u001b[0;31mNameError\u001b[0m: name 'pi' is not defined"
     ]
    }
   ],
   "source": [
    "pi"
   ]
  },
  {
   "cell_type": "markdown",
   "id": "spiritual-surgeon",
   "metadata": {},
   "source": [
    "- 변수에 값을 할당"
   ]
  },
  {
   "cell_type": "code",
   "execution_count": 15,
   "id": "lyric-purchase",
   "metadata": {},
   "outputs": [],
   "source": [
    "pi = 3.141592"
   ]
  },
  {
   "cell_type": "markdown",
   "id": "russian-variety",
   "metadata": {},
   "source": [
    "- 변수가 가리키는 값을 출력"
   ]
  },
  {
   "cell_type": "code",
   "execution_count": 16,
   "id": "international-growing",
   "metadata": {},
   "outputs": [
    {
     "name": "stdout",
     "output_type": "stream",
     "text": [
      "3.141592\n"
     ]
    }
   ],
   "source": [
    "print(pi)"
   ]
  },
  {
   "cell_type": "code",
   "execution_count": 17,
   "id": "productive-helena",
   "metadata": {},
   "outputs": [
    {
     "data": {
      "text/plain": [
       "3.141592"
      ]
     },
     "execution_count": 17,
     "metadata": {},
     "output_type": "execute_result"
    }
   ],
   "source": [
    "pi"
   ]
  },
  {
   "cell_type": "markdown",
   "id": "advanced-johnson",
   "metadata": {},
   "source": [
    "- 변수로 하여금 다른 값을 가리키게 할 수 있다."
   ]
  },
  {
   "cell_type": "code",
   "execution_count": 18,
   "id": "particular-course",
   "metadata": {},
   "outputs": [],
   "source": [
    "pi = 100"
   ]
  },
  {
   "cell_type": "code",
   "execution_count": 19,
   "id": "adverse-antigua",
   "metadata": {},
   "outputs": [
    {
     "name": "stdout",
     "output_type": "stream",
     "text": [
      "100\n"
     ]
    }
   ],
   "source": [
    "print(pi)"
   ]
  },
  {
   "cell_type": "markdown",
   "id": "german-advance",
   "metadata": {},
   "source": [
    "- 다양한 종류의 값을 가리킬 수 있다."
   ]
  },
  {
   "cell_type": "code",
   "execution_count": 21,
   "id": "delayed-october",
   "metadata": {},
   "outputs": [
    {
     "data": {
      "text/plain": [
       "'hello world'"
      ]
     },
     "execution_count": 21,
     "metadata": {},
     "output_type": "execute_result"
    }
   ],
   "source": [
    "pi = 'hello world'\n",
    "pi"
   ]
  },
  {
   "cell_type": "code",
   "execution_count": 22,
   "id": "eastern-canvas",
   "metadata": {},
   "outputs": [
    {
     "data": {
      "text/plain": [
       "True"
      ]
     },
     "execution_count": 22,
     "metadata": {},
     "output_type": "execute_result"
    }
   ],
   "source": [
    "pi = True\n",
    "pi"
   ]
  }
 ],
 "metadata": {
  "kernelspec": {
   "display_name": "Python 3 (ipykernel)",
   "language": "python",
   "name": "python3"
  },
  "language_info": {
   "codemirror_mode": {
    "name": "ipython",
    "version": 3
   },
   "file_extension": ".py",
   "mimetype": "text/x-python",
   "name": "python",
   "nbconvert_exporter": "python",
   "pygments_lexer": "ipython3",
   "version": "3.8.10"
  }
 },
 "nbformat": 4,
 "nbformat_minor": 5
}
