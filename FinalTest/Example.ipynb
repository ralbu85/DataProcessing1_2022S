{
 "cells": [
  {
   "cell_type": "markdown",
   "id": "4bbaadbf",
   "metadata": {},
   "source": [
    "## 예제\n",
    "다음 data의 표준편차를 계산하고, 이를 result 변수에 저장하시오"
   ]
  },
  {
   "cell_type": "code",
   "execution_count": null,
   "id": "d0604443",
   "metadata": {
    "deletable": false,
    "nbgrader": {
     "cell_type": "code",
     "checksum": "81b7871953635c847ab472f4d733ae2e",
     "grade": false,
     "grade_id": "cell-1f1c6328605f3e7f",
     "locked": false,
     "schema_version": 3,
     "solution": true,
     "task": false
    }
   },
   "outputs": [],
   "source": [
    "import numpy as np\n",
    "rand = np.random.RandomState(42)\n",
    "data=rand.rand(100)\n",
    "# YOUR CODE HERE\n",
    "raise NotImplementedError()"
   ]
  },
  {
   "cell_type": "code",
   "execution_count": null,
   "id": "049f6360",
   "metadata": {
    "deletable": false,
    "editable": false,
    "nbgrader": {
     "cell_type": "code",
     "checksum": "d4b7c4104fcf18fa24a954e777e9ffaa",
     "grade": true,
     "grade_id": "cell-27dc8efbe4e3db4f",
     "locked": true,
     "points": 2,
     "schema_version": 3,
     "solution": false,
     "task": false
    }
   },
   "outputs": [],
   "source": [
    "print('success')"
   ]
  },
  {
   "cell_type": "markdown",
   "id": "fedf3eb3",
   "metadata": {},
   "source": [
    "## 예제2\n",
    "다음 data의 평균값을 구하고, 이를 answer 변수에 저장하시오"
   ]
  },
  {
   "cell_type": "code",
   "execution_count": null,
   "id": "a792d00a",
   "metadata": {
    "deletable": false,
    "nbgrader": {
     "cell_type": "code",
     "checksum": "1599dac10c2cd941bd52560350f9946f",
     "grade": false,
     "grade_id": "cell-de184751f1cbe01b",
     "locked": false,
     "schema_version": 3,
     "solution": true,
     "task": false
    }
   },
   "outputs": [],
   "source": [
    "import numpy as np\n",
    "rand = np.random.RandomState(24)\n",
    "data = rand.rand(100)\n",
    "# YOUR CODE HERE\n",
    "raise NotImplementedError()"
   ]
  },
  {
   "cell_type": "code",
   "execution_count": null,
   "id": "82925f43",
   "metadata": {
    "deletable": false,
    "editable": false,
    "nbgrader": {
     "cell_type": "code",
     "checksum": "8e39c9c56ba5799e9c63198d05fd851e",
     "grade": true,
     "grade_id": "cell-2eba3f85aff00c1e",
     "locked": true,
     "points": 2,
     "schema_version": 3,
     "solution": false,
     "task": false
    }
   },
   "outputs": [],
   "source": [
    "print('success')"
   ]
  }
 ],
 "metadata": {
  "kernelspec": {
   "display_name": "Python 3 (ipykernel)",
   "language": "python",
   "name": "python3"
  },
  "language_info": {
   "codemirror_mode": {
    "name": "ipython",
    "version": 3
   },
   "file_extension": ".py",
   "mimetype": "text/x-python",
   "name": "python",
   "nbconvert_exporter": "python",
   "pygments_lexer": "ipython3",
   "version": "3.9.4"
  }
 },
 "nbformat": 4,
 "nbformat_minor": 5
}
