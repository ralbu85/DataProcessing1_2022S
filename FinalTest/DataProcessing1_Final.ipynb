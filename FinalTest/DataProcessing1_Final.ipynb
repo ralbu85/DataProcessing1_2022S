{
 "cells": [
  {
   "cell_type": "markdown",
   "id": "25e0a07f",
   "metadata": {},
   "source": [
    "## 문제1\n",
    "rain 변수에는 시애틀 지역의 2014년 강우량에 대한 정보가 numpy array 형태로 저장되어 있다. 데이터 내에는 비가 내린날과 그렇지 않은날이 모두 존재한다. 다음 요건을 보고, 각 변수가 요건을 만족할수 있도록 만드시오\n",
    "* 변수 result1에 비가 내린날의 평균 강우량을 저장하시오\n",
    "* 변수 result2에 비가 내리지 않은 날의 갯수를 저장하시오\n",
    "* 변수 result3에 비가 내린 날의 강우량의 최대값과 최소값의 차이를 계산하여 저장하시오"
   ]
  },
  {
   "cell_type": "code",
   "execution_count": null,
   "id": "5693d3df",
   "metadata": {
    "deletable": false,
    "nbgrader": {
     "cell_type": "code",
     "checksum": "fb3ec79acad71873e507967c96a5b742",
     "grade": false,
     "grade_id": "problem1",
     "locked": false,
     "schema_version": 3,
     "solution": true,
     "task": false
    }
   },
   "outputs": [],
   "source": [
    "import pandas as pd\n",
    "import numpy as np\n",
    "\n",
    "## 다음 코드를 건드리지 마시오\n",
    "rain=pd.read_csv('https://raw.githubusercontent.com/ralbu85/DataProcessing1_2022S/master/Seattle2014.csv')['PRCP'].values\n",
    "print(rain)\n",
    "# YOUR CODE HERE\n",
    "raise NotImplementedError()\n",
    "print(result1, result2, result3)"
   ]
  },
  {
   "cell_type": "code",
   "execution_count": null,
   "id": "5e6cca0a",
   "metadata": {
    "deletable": false,
    "editable": false,
    "nbgrader": {
     "cell_type": "code",
     "checksum": "736fa06c3a820091ef4ef931bf717bcc",
     "grade": true,
     "grade_id": "problem1_test",
     "locked": true,
     "points": 4,
     "schema_version": 3,
     "solution": false,
     "task": false
    }
   },
   "outputs": [],
   "source": [
    "from nose.tools import assert_equal\n",
    "print('success')"
   ]
  },
  {
   "cell_type": "markdown",
   "id": "3dd40e02",
   "metadata": {},
   "source": [
    "## 문제2\n",
    "points라는 변수에 (100,2) 데이터셋이 무작위로 생성되었다. 여기서 각 행은 2차원 공간에 찍힌 점을 의미한다. target에 저장되어 있는 [0.5,0.5]과 가장 가까운 10개의 점을 찾고 이들의 평균 거리를 계산하여 result 변수에 저장하시오 "
   ]
  },
  {
   "cell_type": "code",
   "execution_count": null,
   "id": "241f31b2",
   "metadata": {
    "deletable": false,
    "nbgrader": {
     "cell_type": "code",
     "checksum": "3a15fb6c933374cbf7ca8e58e68fd9f3",
     "grade": false,
     "grade_id": "problem2",
     "locked": false,
     "schema_version": 3,
     "solution": true,
     "task": false
    }
   },
   "outputs": [],
   "source": [
    "import numpy as np\n",
    "rand=np.random.RandomState(42)\n",
    "points=rand.rand(100,2)\n",
    "target = np.array([0.5,0.5])\n",
    "# YOUR CODE HERE\n",
    "raise NotImplementedError()\n",
    "print(result)"
   ]
  },
  {
   "cell_type": "code",
   "execution_count": null,
   "id": "cc2d7a37",
   "metadata": {
    "deletable": false,
    "editable": false,
    "nbgrader": {
     "cell_type": "code",
     "checksum": "db6ddd06ef5d68596fea867ac9b0e9b5",
     "grade": true,
     "grade_id": "problem2_answer",
     "locked": true,
     "points": 4,
     "schema_version": 3,
     "solution": false,
     "task": false
    }
   },
   "outputs": [],
   "source": [
    "import numpy as np\n",
    "print('success')"
   ]
  },
  {
   "cell_type": "markdown",
   "id": "5a696a5f",
   "metadata": {},
   "source": [
    "## 문제3\n",
    "손글씨 이미지를 나타내기 위한 데이터셋을 data라는 변수에 불러왔다. 이 데이터는 현재 1797개의 이미지로 구성되어 있으며 각 이미지는 64개의 픽셀로 표현되고 있다.즉 데이터가 (1797,64)로 표현된다. result 변수를 만들고 다음 요건을 만족할 수 있도록 하시오. \n",
    "* 요건1: 현재 데이터의 차원은 (1797,64)인데 이를 (1797,8,8)로 바꾸시오\n",
    "* 요건2: 현재 데이터의 값이 0에서 16까지의 값으로 표현되고 있는데 이를 0~1 사이의 값을 가질 수 있도록 변형하시오\n",
    "\n"
   ]
  },
  {
   "cell_type": "code",
   "execution_count": null,
   "id": "5c0ef2ba",
   "metadata": {
    "deletable": false,
    "nbgrader": {
     "cell_type": "code",
     "checksum": "13d8d07c3049bf381a58f68d88aa4aec",
     "grade": false,
     "grade_id": "problem3",
     "locked": false,
     "schema_version": 3,
     "solution": true,
     "task": false
    }
   },
   "outputs": [],
   "source": [
    "from sklearn.datasets import load_digits\n",
    "## 다음 코드를 건드리지 마시오\n",
    "data = load_digits()['data']\n",
    "print(data, data.shape)\n",
    "# YOUR CODE HERE\n",
    "raise NotImplementedError()"
   ]
  },
  {
   "cell_type": "code",
   "execution_count": null,
   "id": "e9d8ba72",
   "metadata": {
    "deletable": false,
    "editable": false,
    "nbgrader": {
     "cell_type": "code",
     "checksum": "c253b595ec9e9589db66d41bfd21c622",
     "grade": true,
     "grade_id": "problem3_answer",
     "locked": true,
     "points": 4,
     "schema_version": 3,
     "solution": false,
     "task": false
    }
   },
   "outputs": [],
   "source": [
    "print('success')"
   ]
  },
  {
   "cell_type": "markdown",
   "id": "d921e6ce",
   "metadata": {},
   "source": [
    "## 문제4\n",
    "\n",
    "손글씨 이미지를 나타내기 위한 데이터셋을 data라는 변수에 불러왔다. 이 데이터는 현재 1797개의 이미지로 구성되어 있으며 각 이미지는 64개의 픽셀로 표현되고 있다.즉 데이터가 (1797,64)로 표현된다. point라는 변수는 전체 데이터 중 14번째 데이터를 가리키고 있는데, point 자기 자신을 제외한 가장 가까운 10개의 데이터를 data에서 검색하고, 그 위치를 argsort를 이용하여 구해보시오. 계산 결과는 result 변수에 저장한다"
   ]
  },
  {
   "cell_type": "code",
   "execution_count": null,
   "id": "a8d08f35",
   "metadata": {
    "deletable": false,
    "nbgrader": {
     "cell_type": "code",
     "checksum": "f0e4f6a736fb72cefab38d13766e0b58",
     "grade": false,
     "grade_id": "problem4",
     "locked": false,
     "schema_version": 3,
     "solution": true,
     "task": false
    }
   },
   "outputs": [],
   "source": [
    "from sklearn.datasets import load_digits\n",
    "## 다음 코드를 건드리지 마시오\n",
    "data = load_digits()['data']\n",
    "point = data[13]\n",
    "# YOUR CODE HERE\n",
    "raise NotImplementedError()"
   ]
  },
  {
   "cell_type": "code",
   "execution_count": null,
   "id": "c994a3b2",
   "metadata": {
    "deletable": false,
    "editable": false,
    "nbgrader": {
     "cell_type": "code",
     "checksum": "4ddeb27707e0884558f7f1cce720d136",
     "grade": true,
     "grade_id": "problem4_test",
     "locked": true,
     "points": 4,
     "schema_version": 3,
     "solution": false,
     "task": false
    }
   },
   "outputs": [],
   "source": [
    "print('success')"
   ]
  },
  {
   "cell_type": "markdown",
   "id": "fda54148",
   "metadata": {},
   "source": [
    "## 문제5\n",
    "data라는 변수에 (100,5) 데이터셋이 무작위로 생성되었다. 각 행별로(100개의) 합을 구하고, 이 합에 따라 data의 행을 재정렬하여 result에 저장하시오. result의 첫번째 행에는 5개 숫자의 합이 가장 작은 행이 오게 될 것이며, result의 마지막 행에는 5개의 합이 가장 컸던 행이 오게 될 것이다."
   ]
  },
  {
   "cell_type": "code",
   "execution_count": null,
   "id": "4b83dbf7",
   "metadata": {
    "deletable": false,
    "nbgrader": {
     "cell_type": "code",
     "checksum": "d008bf4e570d01de8530e5fc21555ac1",
     "grade": false,
     "grade_id": "problem5",
     "locked": false,
     "schema_version": 3,
     "solution": true,
     "task": false
    }
   },
   "outputs": [],
   "source": [
    "import numpy as np\n",
    "rand=np.random.RandomState(24)\n",
    "data=rand.rand(100,5)\n",
    "# YOUR CODE HERE\n",
    "raise NotImplementedError()\n"
   ]
  },
  {
   "cell_type": "code",
   "execution_count": null,
   "id": "6cfc3da0",
   "metadata": {
    "deletable": false,
    "editable": false,
    "nbgrader": {
     "cell_type": "code",
     "checksum": "5235b14067dfc99c42ddf5d1e99cbc49",
     "grade": true,
     "grade_id": "problem5_test",
     "locked": true,
     "points": 4,
     "schema_version": 3,
     "solution": false,
     "task": false
    }
   },
   "outputs": [],
   "source": [
    "import numpy as np\n",
    "print('success')"
   ]
  },
  {
   "cell_type": "markdown",
   "id": "81799bd6",
   "metadata": {},
   "source": [
    "## 문제6\n",
    "data에는 1949년 1월부터 1960년 12월까지 월별 항공기 이용 여객수가 기록되어 있다. 현재 1차원인 이 데이터를 변경하여 2차원 데이터로 만들고 이를 result에 저장하고 싶다. result는 다음과 같은 규칙으로 구성되어있다. 이를 만족하도록 2차원 array를 만들고 result에 저장하시오\n",
    "* 1행, data의 1번째값~5번째 값 [112,118,132,129,121]\n",
    "* 2행, data의 2번째값~6번째 값 [118,132,129,121,135]\n",
    "* ...\n",
    "* 마지막행, data의 마지막 5개 값 [606,508,461,390,432]"
   ]
  },
  {
   "cell_type": "code",
   "execution_count": null,
   "id": "9697ccf3",
   "metadata": {
    "deletable": false,
    "nbgrader": {
     "cell_type": "code",
     "checksum": "f3357cc7c29e6df58f77d15ba96edb15",
     "grade": false,
     "grade_id": "problem6",
     "locked": false,
     "schema_version": 3,
     "solution": true,
     "task": false
    }
   },
   "outputs": [],
   "source": [
    "import pandas as pd\n",
    "data=pd.read_csv('https://raw.githubusercontent.com/jbrownlee/Datasets/master/airline-passengers.csv')['Passengers'].values\n",
    "print(data)\n",
    "# YOUR CODE HERE\n",
    "raise NotImplementedError()"
   ]
  },
  {
   "cell_type": "code",
   "execution_count": null,
   "id": "c60ddce9",
   "metadata": {
    "deletable": false,
    "editable": false,
    "nbgrader": {
     "cell_type": "code",
     "checksum": "1c7d4784f75da02f505017279a2b9d84",
     "grade": true,
     "grade_id": "problem6_test",
     "locked": true,
     "points": 4,
     "schema_version": 3,
     "solution": false,
     "task": false
    }
   },
   "outputs": [],
   "source": [
    "import numpy as np\n",
    "print('success')"
   ]
  },
  {
   "cell_type": "markdown",
   "id": "624020df",
   "metadata": {},
   "source": [
    "## 문제7\n",
    "\n",
    "data에는 1949년 1월부터 1960년 12월까지 월별 항공기 이용 여객수가 순서대로 기록되어 있다. 12개월 단위로 데이터를 나누어 매해 평균 이용객을 계산하여 result 변수에 저장하시오"
   ]
  },
  {
   "cell_type": "code",
   "execution_count": null,
   "id": "685f4886",
   "metadata": {
    "deletable": false,
    "nbgrader": {
     "cell_type": "code",
     "checksum": "9957c19eddee870f0dd8670df0e33bba",
     "grade": false,
     "grade_id": "problem7",
     "locked": false,
     "schema_version": 3,
     "solution": true,
     "task": false
    }
   },
   "outputs": [],
   "source": [
    "import pandas as pd\n",
    "data=pd.read_csv('https://raw.githubusercontent.com/jbrownlee/Datasets/master/airline-passengers.csv')['Passengers'].values\n",
    "print(data)\n",
    "# YOUR CODE HERE\n",
    "raise NotImplementedError()\n"
   ]
  },
  {
   "cell_type": "code",
   "execution_count": null,
   "id": "075c1c65",
   "metadata": {
    "deletable": false,
    "editable": false,
    "nbgrader": {
     "cell_type": "code",
     "checksum": "3fa8cd5aff4c4c606304ef8d61864b57",
     "grade": true,
     "grade_id": "problem7_test",
     "locked": true,
     "points": 4,
     "schema_version": 3,
     "solution": false,
     "task": false
    }
   },
   "outputs": [],
   "source": [
    "import numpy as np\n",
    "print('success')"
   ]
  }
 ],
 "metadata": {
  "kernelspec": {
   "display_name": "Python 3 (ipykernel)",
   "language": "python",
   "name": "python3"
  },
  "language_info": {
   "codemirror_mode": {
    "name": "ipython",
    "version": 3
   },
   "file_extension": ".py",
   "mimetype": "text/x-python",
   "name": "python",
   "nbconvert_exporter": "python",
   "pygments_lexer": "ipython3",
   "version": "3.9.4"
  }
 },
 "nbformat": 4,
 "nbformat_minor": 5
}
